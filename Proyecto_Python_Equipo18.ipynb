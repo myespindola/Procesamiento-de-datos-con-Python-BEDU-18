{
  "nbformat": 4,
  "nbformat_minor": 0,
  "metadata": {
    "colab": {
      "name": "Proyecto_Python_Equipo18.ipynb",
      "provenance": [],
      "collapsed_sections": []
    },
    "kernelspec": {
      "display_name": "Python 3",
      "name": "python3"
    },
    "language_info": {
      "name": "python"
    }
  },
  "cells": [
    {
      "cell_type": "markdown",
      "metadata": {
        "id": "4QcpDnul7CCN"
      },
      "source": [
        "# Proyecto: Procesamiento de Datos con Python\n",
        "**Equipo 18**\n",
        "\n",
        "- Ana Cristina Castillo Escobar\n",
        "- Edgar Balderas Loranca\n",
        "- José Alberto Cortes Ayala\n",
        "- Leandro Marcelo Pantoja Acosta\n",
        "- Luis Arturo Rosas León\n",
        "- Marcos Yáñez Espíndola\n",
        "---\n"
      ]
    },
    {
      "cell_type": "markdown",
      "metadata": {
        "id": "lGvahqwo8Khm"
      },
      "source": [
        "\n",
        "## **Identificación del problema**\n",
        "\n",
        "La inseguridad es una de las principales preocupaciones públicas de la sociedad. Existe una creciente ansiedad colectiva ocasionada por el incremento de la violencia y la criminalidad en grandes centros urbanos como lo es la Ciudad de México (CDMX). De acuerdo con cifras oficiales del INEGI, en la capital del país ha crecido la tasa de incidencia delictiva por cada cien mil habitantes de 44,055 en 2010 a 62,008 en 2019; lo cual posiciona a la CDMX como la entidad con el mayor número crímenes en todo el país (INEGI, 2019). \n",
        "\n",
        "Este problema ha llegado a un nivel tan preocupante que, en el 2018, 86 de cada 100 personas residentes de la Ciudad de México afirman sentirse víctimas potenciales de un delito, además de que 77.2% de la población capitalina considera la inseguridad como uno de los tres problemas más inquietantes (Gobierno de la CDMX, 2020). \n",
        "\n",
        "Debido a los argumentos expuestos con anterioridad, se estableció que el objetivo principal de este proyecto es la elaboración de indicadores estadísticos y representaciones gráficas que nos ayuden a enteder como se comportan los índices de inseguridad en la CDMX, esto con el fin de ilustrar al público en general en cuanto a los diversos factores que están relacionados con los sucesos de inseguridad en la ciudad; al igual que se pretende explorar y hallar posibles causas y/o características que influyen en el comportamiento de los índices de inseguridad por zonas demográficas en la ciudad.\n",
        "\n",
        "Esta primera parte del proyecto está enfocada en la recolección, exploración, limpieza y procesamiento inicial de los conjuntos de datos que se utilizarán para posteriormente cumplir con el objetivo principal de esta investigación.\n",
        "\n",
        "**Referencias**\n",
        "\n",
        "INEGI. (2019). *Incidencia delictiva*. 09 agosto, 2021. https://www.inegi.org.mx/temas/incidencia/\n",
        "\n",
        "Gobierno de la Ciudad de México. (2020). *Un diagnóstico de la desigualdad socio territorial*. 09 agosto, 2021. https://www.evalua.cdmx.gob.mx/storage/app/media/DIES20/8-cap-7-inseguridad-y-violencia-publicas.pdf\n",
        "\n",
        "Pansters, W., Castillo, H. (2007). *Violencia e Inseguridad en la Ciudad De México: Entre la Fragmentación y la Politización*. Foro Internacional. pp. 577-615\n",
        "\n",
        "---\n"
      ]
    },
    {
      "cell_type": "markdown",
      "metadata": {
        "id": "Hp-jJLe_4UX_"
      },
      "source": [
        "\n",
        "## **Planteamiento de preguntas**\n",
        "\n",
        "Preguntas de investigación relacionadas con el problema de inseguridad y violencia en la CDMX:\n",
        "\n",
        "\n",
        "\n",
        "\n",
        "1. ¿En qué alcaldía se comete el mayor número de delitos?\n",
        "2. ¿Existe correlación entre el numero de delitos realizados promedio por zona y la percepcion de seguridad de la gente?\n",
        "---"
      ]
    },
    {
      "cell_type": "markdown",
      "metadata": {
        "id": "rNJ8wRpXP39J"
      },
      "source": [
        "## **Recolección de datos**\n",
        "\n",
        "Para este proyecto se utilizó el portal de datos abiertos del Gobierno de la Ciudad de México y el sitio web del INEGI. Dentro de la primera de estas se encuentra una base de datos que contiene la información de las víctimas de los delitos en las carpetas de investigación de la Procuraduría General de Justicia (PGJ) de la Ciudad de México. Por otro lado, en la página de internet del INEGI se encuentran los datos de la Encuesta Nacional de Seguridad Pública Urbana (ENSU) y los resultados del Censo Población y Vivienda 2020.\n",
        "\n",
        "**Links para la descarga de los datos**\n",
        "\n",
        "Víctimas en las Carpetas de Investigación: https://datos.cdmx.gob.mx/dataset/victimas-en-carpetas-de-investigacion-fgj/resource/d543a7b1-f8cb-439f-8a5c-e56c5479eeb5\n",
        "\n",
        "ENSU: https://www.inegi.org.mx/programas/ensu/#Datos_abiertos\n",
        "\n",
        "Censo Población y Vivienda 2020: https://www.inegi.org.mx/programas/ccpv/2020/default.html#Resultados_generales "
      ]
    },
    {
      "cell_type": "markdown",
      "metadata": {
        "id": "lCy4Ak5wNoSv"
      },
      "source": [
        "El dataset de Víctimas en las Carpetas de Investigación será el principal conjunto de datos a usar en el proyecto, mientras que los otros dos se usarán para generar un CSV que contenga los siguientes datos para cada alcaldía:\n",
        "\n",
        "- Población\t\n",
        "- Población económicamente inactiva\t\n",
        "- Grado promedio\t\n",
        "- Número de delitos\t\n",
        "- Percepción de la inseguridad\t\n",
        "  - Mejorará\t\n",
        "  - Seguira igual de bien\t\n",
        "  - Seguira igual de mal\t\n",
        "  - Empeorará\n"
      ]
    },
    {
      "cell_type": "markdown",
      "metadata": {
        "id": "XAsNdpCSOcQ9"
      },
      "source": [
        "La lectura de los datos de Víctimas en las Carpetas de Investigación se hará usando la API que proporciona el Portal de Datos Abiertos de la CDMX"
      ]
    },
    {
      "cell_type": "code",
      "metadata": {
        "id": "rwUawXr3O1Le"
      },
      "source": [
        "# Lectura de datos almacenados localmente\n",
        "# datos_delitos = pd.read_csv('/content/drive/MyDrive/Proyecto/Data/victimas_completa_junio_2021.csv', low_memory=False)"
      ],
      "execution_count": null,
      "outputs": []
    },
    {
      "cell_type": "code",
      "metadata": {
        "id": "Y3HyYKHISJJM"
      },
      "source": [
        "# Lectura de datos desde la API\n",
        "import requests\n",
        "import pandas as pd\n",
        "import time"
      ],
      "execution_count": null,
      "outputs": []
    },
    {
      "cell_type": "code",
      "metadata": {
        "id": "s8lAgj_T3m9A"
      },
      "source": [
        "# La primera petición debe llevar un payload\n",
        "base = 'https://datos.cdmx.gob.mx'\n",
        "start = '/api/3/action/datastore_search?resource_id=d543a7b1-f8cb-439f-8a5c-e56c5479eeb5'\n",
        "payload = {'limit' : 10000, 'offset' : 0}\n",
        "endpoint = base + start\n",
        "r = requests.get(endpoint, params = payload)"
      ],
      "execution_count": null,
      "outputs": []
    },
    {
      "cell_type": "code",
      "metadata": {
        "id": "JkK753nh3zhK"
      },
      "source": [
        "# Iniciamos valores para la automatización\n",
        "result = r.json()['result']\n",
        "endpoint = base + result['_links']['next']\n",
        "json_delitos = {}\n",
        "json_delitos[0] = result['records']"
      ],
      "execution_count": null,
      "outputs": []
    },
    {
      "cell_type": "code",
      "metadata": {
        "id": "fV4mHIYv3vTn"
      },
      "source": [
        "# Iniciamos las peticiones\n",
        "total = result['total']\n",
        "i = 1\n",
        "\n",
        "while result['offset'] + 10_000 <= total:\n",
        "    try:\n",
        "        r = requests.get(endpoint)\n",
        "        time.sleep(3)\n",
        "\n",
        "        if r.status_code == 200:\n",
        "            result = r.json()['result']\n",
        "            json_delitos[i] = result['records']\n",
        "\n",
        "            next = result['_links']['next']\n",
        "            endpoint = base + next\n",
        "            i = i + 1\n",
        "    except:\n",
        "        continue"
      ],
      "execution_count": null,
      "outputs": []
    },
    {
      "cell_type": "code",
      "metadata": {
        "colab": {
          "base_uri": "https://localhost:8080/"
        },
        "id": "QgE0ud3u4XB0",
        "outputId": "f5488b7d-e042-4252-cfff-c39f3d632671"
      },
      "source": [
        "# Comprobamos que el total de llamadas hayan sido las que esperábamos (60)\n",
        "len(json_delitos)"
      ],
      "execution_count": null,
      "outputs": [
        {
          "output_type": "execute_result",
          "data": {
            "text/plain": [
              "60"
            ]
          },
          "metadata": {
            "tags": []
          },
          "execution_count": 634
        }
      ]
    },
    {
      "cell_type": "code",
      "metadata": {
        "id": "RDhQWtVP5fKQ"
      },
      "source": [
        "datos_delitos = []\n",
        "\n",
        "# El json no requiere normalización\n",
        "for key in json_delitos:\n",
        "    df = pd.DataFrame(json_delitos[key])\n",
        "    datos_delitos.append(df)\n",
        "\n",
        "datos_delitos = pd.concat(datos_delitos, axis = 0).reset_index(drop = True).replace(\"NA\", np.nan)"
      ],
      "execution_count": null,
      "outputs": []
    },
    {
      "cell_type": "code",
      "metadata": {
        "id": "GdgOdq5a6UNe"
      },
      "source": [
        "import glob\n",
        "import datetime\n",
        "import pandas as pd\n",
        "import numpy as np\n",
        "import matplotlib.pyplot as plt"
      ],
      "execution_count": null,
      "outputs": []
    },
    {
      "cell_type": "markdown",
      "metadata": {
        "id": "nS-f9ksLO4_m"
      },
      "source": [
        "Para los datos del Censo de Población y Vivienda 2020 únicamente son de interés los datos a nivel alcaldúa de la CDMX. Las columnas que relevantes son:\n",
        "\n",
        "- La población total\n",
        "- La población económicamente inactiva \n",
        "- El grado de escolaridad promedio\n",
        "\n",
        "Desde este punto sólo tomamos la parte de los datos que cumplen con estas especificaciones."
      ]
    },
    {
      "cell_type": "code",
      "metadata": {
        "id": "nMf6x0Lvkail"
      },
      "source": [
        "datos_censo = pd.read_csv('/content/drive/MyDrive/Proyecto/Data/conjunto_de_datos_iter_09CSV20.csv', low_memory=False)\n",
        "datos_censo = datos_censo[datos_censo['NOM_LOC']=='Total del Municipio']\n",
        "datos_censo=datos_censo[['NOM_MUN','POBTOT','PE_INAC','GRAPROES']]"
      ],
      "execution_count": null,
      "outputs": []
    },
    {
      "cell_type": "markdown",
      "metadata": {
        "id": "WYhu2lxNPfoX"
      },
      "source": [
        "Para la lectura de los datos de la ENSU, se descargí cada uno de los CSV correspondientes a cada trimestre a partir del 2017, se renombraron manualmente por fecha y con el siguiente fragmento de código se cargó cada CSV, tomando únicamente los datos correspondientes a la CDMX y las columnas de las preguntas 1 y 3 de esta encuesta. Dichas preguntas son:\n",
        "\n",
        "1. ¿Usted considera segura la ciudad?\n",
        "\n",
        "  - 1: Si\n",
        "  - 2: No\n",
        "  \n",
        "3. ¿Cuál es su expectativa respecto a las condiciones de seguridad pública en los próximos años?\n",
        "\n",
        "  - 1: Mejorará\n",
        "  - 2: Seguirá igual de bien\n",
        "  - 3: Seguirá igual de mal\n",
        "  - 4: Empeorará\n",
        "\n",
        "  Posteriormente, se concatenó la información obtenida de cada CSV correspondiente a cada trimestre en un solo DataFrame."
      ]
    },
    {
      "cell_type": "code",
      "metadata": {
        "id": "EeimFW466IAP"
      },
      "source": [
        "path = r''\n",
        "all_files = sorted(glob.glob(path + \"/content/drive/MyDrive/Proyecto/Data/ENSU/*.csv\"))"
      ],
      "execution_count": null,
      "outputs": []
    },
    {
      "cell_type": "code",
      "metadata": {
        "id": "e_THNwLv6oDs"
      },
      "source": [
        "li = []\n",
        "for filename in all_files:\n",
        "    df = pd.read_csv(filename,low_memory=False)\n",
        "    df=df[(df['NOM_ENT']=='Ciudad de Mexico\\r') | (df['NOM_ENT']=='Ciudad de México\\r')].loc[:,['NOM_MUN','BP1_1','BP1_3']]\n",
        "    df['Fecha']=f'{filename[-11:-7]}-{filename[-6:-4]}-01'\n",
        "    li.append(df)\n",
        "datos_ensu = pd.concat(li, axis=0, ignore_index=True)"
      ],
      "execution_count": null,
      "outputs": []
    },
    {
      "cell_type": "markdown",
      "metadata": {
        "id": "7VhdFfLaaTd7"
      },
      "source": [
        "---"
      ]
    },
    {
      "cell_type": "markdown",
      "metadata": {
        "id": "ljTzKlHPOcn7"
      },
      "source": [
        "## **Análisis exploratorio del conjunto de datos**\n"
      ]
    },
    {
      "cell_type": "markdown",
      "metadata": {
        "id": "WQK_SJhQVMmv"
      },
      "source": [
        "Para el analisis exploratorio se obtuvó el número de nulos por columna, el tipo de dato, los nombres de las columnas y visualizaremos como se ven los datos, también se hicieron algunas graficas que permiten conocer mejor los datos."
      ]
    },
    {
      "cell_type": "markdown",
      "metadata": {
        "id": "3X-9NPWAZo6C"
      },
      "source": [
        "#### Víctimas en las Carpetas de Investigación"
      ]
    },
    {
      "cell_type": "code",
      "metadata": {
        "colab": {
          "base_uri": "https://localhost:8080/"
        },
        "id": "jPe46DU_IjI2",
        "outputId": "9727f71e-3637-4531-e155-d106810a3173"
      },
      "source": [
        "datos_delitos.info()"
      ],
      "execution_count": null,
      "outputs": [
        {
          "output_type": "stream",
          "text": [
            "<class 'pandas.core.frame.DataFrame'>\n",
            "RangeIndex: 598402 entries, 0 to 598401\n",
            "Data columns (total 23 columns):\n",
            " #   Column           Non-Null Count   Dtype \n",
            "---  ------           --------------   ----- \n",
            " 0   _id              598402 non-null  int64 \n",
            " 1   idCarpeta        598402 non-null  int64 \n",
            " 2   Ano_inicio       598402 non-null  int64 \n",
            " 3   Mes_inicio       598402 non-null  object\n",
            " 4   FechaInicio      598402 non-null  object\n",
            " 5   Delito           598402 non-null  object\n",
            " 6   Categoria        598402 non-null  object\n",
            " 7   Sexo             477773 non-null  object\n",
            " 8   Edad             376086 non-null  object\n",
            " 9   TipoPersona      593139 non-null  object\n",
            " 10  CalidadJuridica  598400 non-null  object\n",
            " 11  competencia      598402 non-null  object\n",
            " 12  Ano_hecho        598068 non-null  object\n",
            " 13  Mes_hecho        598068 non-null  object\n",
            " 14  FechaHecho       598068 non-null  object\n",
            " 15  HoraHecho        598071 non-null  object\n",
            " 16  HoraInicio       598400 non-null  object\n",
            " 17  AlcaldiaHechos   598023 non-null  object\n",
            " 18  ColoniaHechos    574002 non-null  object\n",
            " 19  Calle_hechos     597280 non-null  object\n",
            " 20  Calle_hechos2    217123 non-null  object\n",
            " 21  latitud          574237 non-null  object\n",
            " 22  longitud         574233 non-null  object\n",
            "dtypes: int64(3), object(20)\n",
            "memory usage: 105.0+ MB\n"
          ],
          "name": "stdout"
        }
      ]
    },
    {
      "cell_type": "markdown",
      "metadata": {
        "id": "5gBpovu-W0gO"
      },
      "source": [
        "Se observa que ciertas columnas no corresponden con el tipo de dato que se espera, por ejemplo las fechas."
      ]
    },
    {
      "cell_type": "code",
      "metadata": {
        "colab": {
          "base_uri": "https://localhost:8080/"
        },
        "id": "ugqbXVyc-Ma8",
        "outputId": "288fd427-f751-4510-934b-0388b2dbf535"
      },
      "source": [
        "datos_delitos.isna().sum()"
      ],
      "execution_count": null,
      "outputs": [
        {
          "output_type": "execute_result",
          "data": {
            "text/plain": [
              "_id                     0\n",
              "idCarpeta               0\n",
              "Ano_inicio              0\n",
              "Mes_inicio              0\n",
              "FechaInicio             0\n",
              "Delito                  0\n",
              "Categoria               0\n",
              "Sexo               120629\n",
              "Edad               222316\n",
              "TipoPersona          5263\n",
              "CalidadJuridica         2\n",
              "competencia             0\n",
              "Ano_hecho             334\n",
              "Mes_hecho             334\n",
              "FechaHecho            334\n",
              "HoraHecho             331\n",
              "HoraInicio              2\n",
              "AlcaldiaHechos        379\n",
              "ColoniaHechos       24400\n",
              "Calle_hechos         1122\n",
              "Calle_hechos2      381279\n",
              "latitud             24165\n",
              "longitud            24169\n",
              "dtype: int64"
            ]
          },
          "metadata": {
            "tags": []
          },
          "execution_count": 641
        }
      ]
    },
    {
      "cell_type": "markdown",
      "metadata": {
        "id": "LABApssmXEI9"
      },
      "source": [
        "También se observó que el DataSet tiene muchos datos nulos."
      ]
    },
    {
      "cell_type": "code",
      "metadata": {
        "id": "oCmOuKyeCXfV"
      },
      "source": [
        ""
      ],
      "execution_count": null,
      "outputs": []
    },
    {
      "cell_type": "code",
      "metadata": {
        "colab": {
          "base_uri": "https://localhost:8080/",
          "height": 526
        },
        "id": "-gmDAESE-jNt",
        "outputId": "f8eb349f-aeea-416c-8168-509e4730f162"
      },
      "source": [
        "datos_delitos.head()"
      ],
      "execution_count": null,
      "outputs": [
        {
          "output_type": "execute_result",
          "data": {
            "text/html": [
              "<div>\n",
              "<style scoped>\n",
              "    .dataframe tbody tr th:only-of-type {\n",
              "        vertical-align: middle;\n",
              "    }\n",
              "\n",
              "    .dataframe tbody tr th {\n",
              "        vertical-align: top;\n",
              "    }\n",
              "\n",
              "    .dataframe thead th {\n",
              "        text-align: right;\n",
              "    }\n",
              "</style>\n",
              "<table border=\"1\" class=\"dataframe\">\n",
              "  <thead>\n",
              "    <tr style=\"text-align: right;\">\n",
              "      <th></th>\n",
              "      <th>_id</th>\n",
              "      <th>idCarpeta</th>\n",
              "      <th>Ano_inicio</th>\n",
              "      <th>Mes_inicio</th>\n",
              "      <th>FechaInicio</th>\n",
              "      <th>Delito</th>\n",
              "      <th>Categoria</th>\n",
              "      <th>Sexo</th>\n",
              "      <th>Edad</th>\n",
              "      <th>TipoPersona</th>\n",
              "      <th>CalidadJuridica</th>\n",
              "      <th>competencia</th>\n",
              "      <th>Ano_hecho</th>\n",
              "      <th>Mes_hecho</th>\n",
              "      <th>FechaHecho</th>\n",
              "      <th>HoraHecho</th>\n",
              "      <th>HoraInicio</th>\n",
              "      <th>AlcaldiaHechos</th>\n",
              "      <th>ColoniaHechos</th>\n",
              "      <th>Calle_hechos</th>\n",
              "      <th>Calle_hechos2</th>\n",
              "      <th>latitud</th>\n",
              "      <th>longitud</th>\n",
              "    </tr>\n",
              "  </thead>\n",
              "  <tbody>\n",
              "    <tr>\n",
              "      <th>0</th>\n",
              "      <td>591708</td>\n",
              "      <td>8956142</td>\n",
              "      <td>2021</td>\n",
              "      <td>Junio</td>\n",
              "      <td>2021-06-21T00:00:00</td>\n",
              "      <td>DAÑO EN PROPIEDAD AJENA CULPOSA POR TRÁNSITO V...</td>\n",
              "      <td>DELITO DE BAJO IMPACTO</td>\n",
              "      <td>Masculino</td>\n",
              "      <td>54</td>\n",
              "      <td>FISICA</td>\n",
              "      <td>VICTIMA Y DENUNCIANTE</td>\n",
              "      <td>FUERO COMUN</td>\n",
              "      <td>2021</td>\n",
              "      <td>Junio</td>\n",
              "      <td>21/06/2021</td>\n",
              "      <td>13:15:00</td>\n",
              "      <td>19:46:00</td>\n",
              "      <td>GUSTAVO A MADERO</td>\n",
              "      <td>TEPEYAC INSURGENTES</td>\n",
              "      <td>GARRIDO</td>\n",
              "      <td>NaN</td>\n",
              "      <td>19.4834799460976</td>\n",
              "      <td>-99.1200283199751</td>\n",
              "    </tr>\n",
              "    <tr>\n",
              "      <th>1</th>\n",
              "      <td>591709</td>\n",
              "      <td>8956143</td>\n",
              "      <td>2021</td>\n",
              "      <td>Junio</td>\n",
              "      <td>2021-06-21T00:00:00</td>\n",
              "      <td>VIOLENCIA FAMILIAR</td>\n",
              "      <td>DELITO DE BAJO IMPACTO</td>\n",
              "      <td>Femenino</td>\n",
              "      <td>35</td>\n",
              "      <td>FISICA</td>\n",
              "      <td>VICTIMA Y DENUNCIANTE</td>\n",
              "      <td>FUERO COMUN</td>\n",
              "      <td>2021</td>\n",
              "      <td>Junio</td>\n",
              "      <td>21/06/2021</td>\n",
              "      <td>04:00:00</td>\n",
              "      <td>19:48:00</td>\n",
              "      <td>MIGUEL HIDALGO</td>\n",
              "      <td>ANAHUAC</td>\n",
              "      <td>LAGO ZIRAHUEN</td>\n",
              "      <td>2a. CDA. LAGO ZIRAHUEN</td>\n",
              "      <td>19.4448680069252</td>\n",
              "      <td>-99.1729071700792</td>\n",
              "    </tr>\n",
              "    <tr>\n",
              "      <th>2</th>\n",
              "      <td>591710</td>\n",
              "      <td>8956144</td>\n",
              "      <td>2021</td>\n",
              "      <td>Junio</td>\n",
              "      <td>2021-06-21T00:00:00</td>\n",
              "      <td>ABUSO SEXUAL</td>\n",
              "      <td>DELITO DE BAJO IMPACTO</td>\n",
              "      <td>Femenino</td>\n",
              "      <td>10</td>\n",
              "      <td>FISICA</td>\n",
              "      <td>VICTIMA</td>\n",
              "      <td>FUERO COMUN</td>\n",
              "      <td>2020</td>\n",
              "      <td>Enero</td>\n",
              "      <td>01/01/2020</td>\n",
              "      <td>11:00:00</td>\n",
              "      <td>19:48:00</td>\n",
              "      <td>XOCHIMILCO</td>\n",
              "      <td>LOMAS DE NATIVITAS</td>\n",
              "      <td>LAS FLORES</td>\n",
              "      <td>NaN</td>\n",
              "      <td>19.2432760061051</td>\n",
              "      <td>-99.0895155103917</td>\n",
              "    </tr>\n",
              "    <tr>\n",
              "      <th>3</th>\n",
              "      <td>591711</td>\n",
              "      <td>8956145</td>\n",
              "      <td>2021</td>\n",
              "      <td>Junio</td>\n",
              "      <td>2021-06-21T00:00:00</td>\n",
              "      <td>LESIONES CULPOSAS POR TRANSITO VEHICULAR</td>\n",
              "      <td>DELITO DE BAJO IMPACTO</td>\n",
              "      <td>Femenino</td>\n",
              "      <td>37</td>\n",
              "      <td>FISICA</td>\n",
              "      <td>VICTIMA Y DENUNCIANTE</td>\n",
              "      <td>FUERO COMUN</td>\n",
              "      <td>2021</td>\n",
              "      <td>Junio</td>\n",
              "      <td>20/06/2021</td>\n",
              "      <td>23:30:00</td>\n",
              "      <td>19:49:00</td>\n",
              "      <td>CUAJIMALPA DE MORELOS</td>\n",
              "      <td>CUAJIMALPA</td>\n",
              "      <td>AVENIDA VERACRUZ</td>\n",
              "      <td>ESQUINA CON CALLE JOSE MARIA CASTORENA</td>\n",
              "      <td>19.3534741784942</td>\n",
              "      <td>-99.3006026700988</td>\n",
              "    </tr>\n",
              "    <tr>\n",
              "      <th>4</th>\n",
              "      <td>591712</td>\n",
              "      <td>8956146</td>\n",
              "      <td>2021</td>\n",
              "      <td>Junio</td>\n",
              "      <td>2021-06-21T00:00:00</td>\n",
              "      <td>ROBO A REPARTIDOR SIN VIOLENCIA</td>\n",
              "      <td>ROBO A REPARTIDOR CON Y SIN VIOLENCIA</td>\n",
              "      <td>NaN</td>\n",
              "      <td>NaN</td>\n",
              "      <td>MORAL</td>\n",
              "      <td>OFENDIDO</td>\n",
              "      <td>FUERO COMUN</td>\n",
              "      <td>2021</td>\n",
              "      <td>Junio</td>\n",
              "      <td>21/06/2021</td>\n",
              "      <td>14:30:00</td>\n",
              "      <td>19:54:00</td>\n",
              "      <td>IZTACALCO</td>\n",
              "      <td>NaN</td>\n",
              "      <td>SE DESCONOCE EL LUGAR EXACTO DEL ROBO</td>\n",
              "      <td>SE DESCONOCE EL LUGAR EXACTO DEL ROBO</td>\n",
              "      <td>NaN</td>\n",
              "      <td>NaN</td>\n",
              "    </tr>\n",
              "  </tbody>\n",
              "</table>\n",
              "</div>"
            ],
            "text/plain": [
              "      _id  idCarpeta  ...           latitud           longitud\n",
              "0  591708    8956142  ...  19.4834799460976  -99.1200283199751\n",
              "1  591709    8956143  ...  19.4448680069252  -99.1729071700792\n",
              "2  591710    8956144  ...  19.2432760061051  -99.0895155103917\n",
              "3  591711    8956145  ...  19.3534741784942  -99.3006026700988\n",
              "4  591712    8956146  ...               NaN                NaN\n",
              "\n",
              "[5 rows x 23 columns]"
            ]
          },
          "metadata": {
            "tags": []
          },
          "execution_count": 642
        }
      ]
    },
    {
      "cell_type": "markdown",
      "metadata": {
        "id": "GaYu5lyHX8z0"
      },
      "source": [
        "Se observó que algunos de los valores están escritos totalmente en mayúscula, cuando lo ideal es tenerlos estilo \"title\" para mejorar la visualización."
      ]
    },
    {
      "cell_type": "code",
      "metadata": {
        "colab": {
          "base_uri": "https://localhost:8080/",
          "height": 265
        },
        "id": "umPswz_Yf8pr",
        "outputId": "9460c3b1-56a9-4fbb-a14c-f92f7f96abd6"
      },
      "source": [
        "datos_delitos['Edad'].astype(float).plot.hist()\n",
        "plt.show()"
      ],
      "execution_count": null,
      "outputs": [
        {
          "output_type": "display_data",
          "data": {
            "image/png": "[encoded data removed]",
            "text/plain": [
              "<Figure size 432x288 with 1 Axes>"
            ]
          },
          "metadata": {
            "tags": [],
            "needs_background": "light"
          }
        }
      ]
    },
    {
      "cell_type": "markdown",
      "metadata": {
        "id": "KzkkobXXYJu8"
      },
      "source": [
        "Se puede apreciar que además de los datos nulos, existen \"outliers\" en el campo de la Edad, en este caso se tiene que algunos sujetos tienen una edad cercana a 350 años."
      ]
    },
    {
      "cell_type": "code",
      "metadata": {
        "colab": {
          "base_uri": "https://localhost:8080/",
          "height": 265
        },
        "id": "MI5SaU9yzcct",
        "outputId": "0ae56703-732a-4c84-bb2f-556da6deaca5"
      },
      "source": [
        "datos_delitos['AlcaldiaHechos'].value_counts().head(20).sort_values(ascending=True).plot.barh()\n",
        "plt.show()"
      ],
      "execution_count": null,
      "outputs": [
        {
          "output_type": "display_data",
          "data": {
            "image/png": "[encoded data removed]",
            "text/plain": [
              "<Figure size 432x288 with 1 Axes>"
            ]
          },
          "metadata": {
            "tags": [],
            "needs_background": "light"
          }
        }
      ]
    },
    {
      "cell_type": "markdown",
      "metadata": {
        "id": "UOE61cyIY_sD"
      },
      "source": [
        "Es notable que además de las alcaldías de la CDMX, tambien hay otros municipios de otros estados, principalemnte el Edo. Mex. Por lo que también se tuvo que eliminar estas observaciones, ya que nuestro análisis se centró unicamente en la CDMX."
      ]
    },
    {
      "cell_type": "markdown",
      "metadata": {
        "id": "yM8-RpQCZhFI"
      },
      "source": [
        "#### Censo Población y Vivienda 2020"
      ]
    },
    {
      "cell_type": "code",
      "metadata": {
        "colab": {
          "base_uri": "https://localhost:8080/"
        },
        "id": "CA6N_DoF_vyf",
        "outputId": "16001d3f-58be-4f3d-b530-c0c26dcea696"
      },
      "source": [
        "datos_censo.info()"
      ],
      "execution_count": null,
      "outputs": [
        {
          "output_type": "stream",
          "text": [
            "<class 'pandas.core.frame.DataFrame'>\n",
            "Int64Index: 16 entries, 3 to 664\n",
            "Data columns (total 4 columns):\n",
            " #   Column    Non-Null Count  Dtype \n",
            "---  ------    --------------  ----- \n",
            " 0   NOM_MUN   16 non-null     object\n",
            " 1   POBTOT    16 non-null     int64 \n",
            " 2   PE_INAC   16 non-null     object\n",
            " 3   GRAPROES  16 non-null     object\n",
            "dtypes: int64(1), object(3)\n",
            "memory usage: 640.0+ bytes\n"
          ],
          "name": "stdout"
        }
      ]
    },
    {
      "cell_type": "markdown",
      "metadata": {
        "id": "ghdkMtkWbRar"
      },
      "source": [
        "Se observó que algunas de las columnas no corresponden con el tipo de dato esperado, PE_INAC debe ser int y GRAPROES debe ser float."
      ]
    },
    {
      "cell_type": "code",
      "metadata": {
        "colab": {
          "base_uri": "https://localhost:8080/"
        },
        "id": "jWVBOUMVA9B0",
        "outputId": "f13c3e38-01d5-4890-8add-7c93775cabf4"
      },
      "source": [
        "datos_censo.isna().sum()"
      ],
      "execution_count": null,
      "outputs": [
        {
          "output_type": "execute_result",
          "data": {
            "text/plain": [
              "NOM_MUN     0\n",
              "POBTOT      0\n",
              "PE_INAC     0\n",
              "GRAPROES    0\n",
              "dtype: int64"
            ]
          },
          "metadata": {
            "tags": []
          },
          "execution_count": 646
        }
      ]
    },
    {
      "cell_type": "markdown",
      "metadata": {
        "id": "Vuwrz9-Cbjjg"
      },
      "source": [
        "Además no hay ningún dato faltante o NaN."
      ]
    },
    {
      "cell_type": "code",
      "metadata": {
        "colab": {
          "base_uri": "https://localhost:8080/",
          "height": 203
        },
        "id": "fSK-thwDBEh1",
        "outputId": "943bdf68-06e3-4acb-9aa5-dbb2e4a7ab02"
      },
      "source": [
        "datos_censo.head()"
      ],
      "execution_count": null,
      "outputs": [
        {
          "output_type": "execute_result",
          "data": {
            "text/html": [
              "<div>\n",
              "<style scoped>\n",
              "    .dataframe tbody tr th:only-of-type {\n",
              "        vertical-align: middle;\n",
              "    }\n",
              "\n",
              "    .dataframe tbody tr th {\n",
              "        vertical-align: top;\n",
              "    }\n",
              "\n",
              "    .dataframe thead th {\n",
              "        text-align: right;\n",
              "    }\n",
              "</style>\n",
              "<table border=\"1\" class=\"dataframe\">\n",
              "  <thead>\n",
              "    <tr style=\"text-align: right;\">\n",
              "      <th></th>\n",
              "      <th>NOM_MUN</th>\n",
              "      <th>POBTOT</th>\n",
              "      <th>PE_INAC</th>\n",
              "      <th>GRAPROES</th>\n",
              "    </tr>\n",
              "  </thead>\n",
              "  <tbody>\n",
              "    <tr>\n",
              "      <th>3</th>\n",
              "      <td>Azcapotzalco</td>\n",
              "      <td>432205</td>\n",
              "      <td>137554</td>\n",
              "      <td>11.91</td>\n",
              "    </tr>\n",
              "    <tr>\n",
              "      <th>5</th>\n",
              "      <td>Coyoacán</td>\n",
              "      <td>614447</td>\n",
              "      <td>202374</td>\n",
              "      <td>12.51</td>\n",
              "    </tr>\n",
              "    <tr>\n",
              "      <th>7</th>\n",
              "      <td>Cuajimalpa de Morelos</td>\n",
              "      <td>217686</td>\n",
              "      <td>61443</td>\n",
              "      <td>11.44</td>\n",
              "    </tr>\n",
              "    <tr>\n",
              "      <th>34</th>\n",
              "      <td>Gustavo A. Madero</td>\n",
              "      <td>1173351</td>\n",
              "      <td>387814</td>\n",
              "      <td>11.11</td>\n",
              "    </tr>\n",
              "    <tr>\n",
              "      <th>36</th>\n",
              "      <td>Iztacalco</td>\n",
              "      <td>404695</td>\n",
              "      <td>125126</td>\n",
              "      <td>11.52</td>\n",
              "    </tr>\n",
              "  </tbody>\n",
              "</table>\n",
              "</div>"
            ],
            "text/plain": [
              "                  NOM_MUN   POBTOT PE_INAC GRAPROES\n",
              "3            Azcapotzalco   432205  137554    11.91\n",
              "5                Coyoacán   614447  202374    12.51\n",
              "7   Cuajimalpa de Morelos   217686   61443    11.44\n",
              "34      Gustavo A. Madero  1173351  387814    11.11\n",
              "36              Iztacalco   404695  125126    11.52"
            ]
          },
          "metadata": {
            "tags": []
          },
          "execution_count": 647
        }
      ]
    },
    {
      "cell_type": "markdown",
      "metadata": {
        "id": "FL6QIGcPbrCV"
      },
      "source": [
        "También es recalcable que los nombres de las alcaldías no corresponden al 100% con el dataset anterior ni con el de la ENSU, ya que varían en pequeñas cosas, como los acentos o las mayúsculas."
      ]
    },
    {
      "cell_type": "code",
      "metadata": {
        "colab": {
          "base_uri": "https://localhost:8080/"
        },
        "id": "0xWXrPrXBEdX",
        "outputId": "65f08f51-6d22-4731-ec53-ecca3d627cd1"
      },
      "source": [
        "datos_ensu.info()"
      ],
      "execution_count": null,
      "outputs": [
        {
          "output_type": "stream",
          "text": [
            "<class 'pandas.core.frame.DataFrame'>\n",
            "RangeIndex: 33755 entries, 0 to 33754\n",
            "Data columns (total 4 columns):\n",
            " #   Column   Non-Null Count  Dtype \n",
            "---  ------   --------------  ----- \n",
            " 0   NOM_MUN  33755 non-null  object\n",
            " 1   BP1_1    33755 non-null  int64 \n",
            " 2   BP1_3    33755 non-null  int64 \n",
            " 3   Fecha    33755 non-null  object\n",
            "dtypes: int64(2), object(2)\n",
            "memory usage: 1.0+ MB\n"
          ],
          "name": "stdout"
        }
      ]
    },
    {
      "cell_type": "markdown",
      "metadata": {
        "id": "2UQrk0WLb7gC"
      },
      "source": [
        "Se observó que la fecha no coincide con el formato de fecha."
      ]
    },
    {
      "cell_type": "code",
      "metadata": {
        "colab": {
          "base_uri": "https://localhost:8080/"
        },
        "id": "UOEQ3ZutEJR3",
        "outputId": "4c0ba5ea-4b06-49a0-fe87-62f084a68360"
      },
      "source": [
        "datos_ensu.isna().sum()"
      ],
      "execution_count": null,
      "outputs": [
        {
          "output_type": "execute_result",
          "data": {
            "text/plain": [
              "NOM_MUN    0\n",
              "BP1_1      0\n",
              "BP1_3      0\n",
              "Fecha      0\n",
              "dtype: int64"
            ]
          },
          "metadata": {
            "tags": []
          },
          "execution_count": 649
        }
      ]
    },
    {
      "cell_type": "markdown",
      "metadata": {
        "id": "bHDXPT_KcE2x"
      },
      "source": [
        "No existen valores faltantes o NaN."
      ]
    },
    {
      "cell_type": "code",
      "metadata": {
        "colab": {
          "base_uri": "https://localhost:8080/",
          "height": 203
        },
        "id": "NLa2IY4JENJo",
        "outputId": "ab663594-db3a-46d6-8f0c-3e9ad266506d"
      },
      "source": [
        "datos_ensu.head()"
      ],
      "execution_count": null,
      "outputs": [
        {
          "output_type": "execute_result",
          "data": {
            "text/html": [
              "<div>\n",
              "<style scoped>\n",
              "    .dataframe tbody tr th:only-of-type {\n",
              "        vertical-align: middle;\n",
              "    }\n",
              "\n",
              "    .dataframe tbody tr th {\n",
              "        vertical-align: top;\n",
              "    }\n",
              "\n",
              "    .dataframe thead th {\n",
              "        text-align: right;\n",
              "    }\n",
              "</style>\n",
              "<table border=\"1\" class=\"dataframe\">\n",
              "  <thead>\n",
              "    <tr style=\"text-align: right;\">\n",
              "      <th></th>\n",
              "      <th>NOM_MUN</th>\n",
              "      <th>BP1_1</th>\n",
              "      <th>BP1_3</th>\n",
              "      <th>Fecha</th>\n",
              "    </tr>\n",
              "  </thead>\n",
              "  <tbody>\n",
              "    <tr>\n",
              "      <th>0</th>\n",
              "      <td>Azcapotzalco\\r</td>\n",
              "      <td>2</td>\n",
              "      <td>4</td>\n",
              "      <td>2017-03-01</td>\n",
              "    </tr>\n",
              "    <tr>\n",
              "      <th>1</th>\n",
              "      <td>Azcapotzalco\\r</td>\n",
              "      <td>2</td>\n",
              "      <td>4</td>\n",
              "      <td>2017-03-01</td>\n",
              "    </tr>\n",
              "    <tr>\n",
              "      <th>2</th>\n",
              "      <td>Azcapotzalco\\r</td>\n",
              "      <td>2</td>\n",
              "      <td>4</td>\n",
              "      <td>2017-03-01</td>\n",
              "    </tr>\n",
              "    <tr>\n",
              "      <th>3</th>\n",
              "      <td>Azcapotzalco\\r</td>\n",
              "      <td>1</td>\n",
              "      <td>2</td>\n",
              "      <td>2017-03-01</td>\n",
              "    </tr>\n",
              "    <tr>\n",
              "      <th>4</th>\n",
              "      <td>Azcapotzalco\\r</td>\n",
              "      <td>2</td>\n",
              "      <td>4</td>\n",
              "      <td>2017-03-01</td>\n",
              "    </tr>\n",
              "  </tbody>\n",
              "</table>\n",
              "</div>"
            ],
            "text/plain": [
              "          NOM_MUN  BP1_1  BP1_3       Fecha\n",
              "0  Azcapotzalco\\r      2      4  2017-03-01\n",
              "1  Azcapotzalco\\r      2      4  2017-03-01\n",
              "2  Azcapotzalco\\r      2      4  2017-03-01\n",
              "3  Azcapotzalco\\r      1      2  2017-03-01\n",
              "4  Azcapotzalco\\r      2      4  2017-03-01"
            ]
          },
          "metadata": {
            "tags": []
          },
          "execution_count": 650
        }
      ]
    },
    {
      "cell_type": "markdown",
      "metadata": {
        "id": "DmFTn21qcIlp"
      },
      "source": [
        "Se ve que la columna de municipio tiene un \"/r\" en algunos de los registros, los cuales deben ser eliminados."
      ]
    },
    {
      "cell_type": "markdown",
      "metadata": {
        "id": "FuFmrOhdPns5"
      },
      "source": [
        "---"
      ]
    },
    {
      "cell_type": "markdown",
      "metadata": {
        "id": "2C6GxzEhC-G5"
      },
      "source": [
        "## **Limpieza del data frame**\n"
      ]
    },
    {
      "cell_type": "markdown",
      "metadata": {
        "id": "iowUBujdUEX2"
      },
      "source": [
        "#### Víctimas en las Carpetas de Investigación"
      ]
    },
    {
      "cell_type": "markdown",
      "metadata": {
        "id": "zSwOlOv_cvhx"
      },
      "source": [
        "Se tomarón unicamente aquellos registros que pertenecen a la CDMX, en donde la víctima es una persona física, y donde la edad es menor o igual 120 años."
      ]
    },
    {
      "cell_type": "code",
      "metadata": {
        "id": "vf8WXN7fItF8"
      },
      "source": [
        "alcaldias = ['ALVARO OBREGON', 'AZCAPOTZALCO', 'COYOACAN', 'IZTACALCO',\n",
        "       'IZTAPALAPA', 'GUSTAVO A MADERO', 'VENUSTIANO CARRANZA',\n",
        "       'XOCHIMILCO', 'MIGUEL HIDALGO', 'CUAUHTEMOC', 'BENITO JUAREZ',\n",
        "       'TLAHUAC', 'TLALPAN', 'LA MAGDALENA CONTRERAS','CUAJIMALPA DE MORELOS', 'MILPA ALTA']\n",
        "datos_delitos = datos_delitos.loc[(datos_delitos['AlcaldiaHechos'].isin(alcaldias)) & (datos_delitos['TipoPersona']=='FISICA') & (datos_delitos['Edad'].astype(float)<=120)]"
      ],
      "execution_count": null,
      "outputs": []
    },
    {
      "cell_type": "markdown",
      "metadata": {
        "id": "LvZhyIZxdIQo"
      },
      "source": [
        "Como ahora se está seguro de que todas son personas físicas, se puede eliminar esta columna y la del _id, ya que tenemos el id de la carpeta de investigación."
      ]
    },
    {
      "cell_type": "code",
      "metadata": {
        "id": "OxOON9WXdHwu"
      },
      "source": [
        "datos_delitos.drop(columns=['TipoPersona','_id'], inplace=True)"
      ],
      "execution_count": null,
      "outputs": []
    },
    {
      "cell_type": "markdown",
      "metadata": {
        "id": "x6hKr92udRKX"
      },
      "source": [
        "Se cambió todas las ocurrencias de 'GUSTAVO A MADERO' a 'GUSTAVO A. MADERO', ya que de esta forma está en los otros dos DataFrames."
      ]
    },
    {
      "cell_type": "code",
      "metadata": {
        "id": "dloJI77jdh8B"
      },
      "source": [
        "datos_delitos['AlcaldiaHechos'].replace('GUSTAVO A MADERO','GUSTAVO A. MADERO',inplace=True)"
      ],
      "execution_count": null,
      "outputs": []
    },
    {
      "cell_type": "markdown",
      "metadata": {
        "id": "zCss5DC8djy_"
      },
      "source": [
        "Se pasaron a formato \"title\" (mayúsculas en la primera letra de cada palabra) todas las columnas que son \"String\"."
      ]
    },
    {
      "cell_type": "code",
      "metadata": {
        "id": "m4cZnEpJdu0t"
      },
      "source": [
        "columnas_str = ['Delito','Categoria','CalidadJuridica','competencia','AlcaldiaHechos','ColoniaHechos','Calle_hechos','Calle_hechos2']\n",
        "datos_delitos[columnas_str] = datos_delitos[columnas_str].apply(lambda x: x.str.title())"
      ],
      "execution_count": null,
      "outputs": []
    },
    {
      "cell_type": "markdown",
      "metadata": {
        "id": "ARDy3rAVdvgH"
      },
      "source": [
        "Se eliminaron todos aquellos registros que tengan NaN en una columna que no sea la CalleHechos_2, ya que ésta es un campo opcional.\n",
        "\n",
        "Además se reemplazaron los NaN de la columna CalleHechos_2 por un 'No aplica'."
      ]
    },
    {
      "cell_type": "code",
      "metadata": {
        "id": "7G_BbjdydyTw"
      },
      "source": [
        "datos_delitos.dropna(subset=datos_delitos.columns.drop(\"Calle_hechos2\"), inplace=True)\n",
        "datos_delitos[\"Calle_hechos2\"] = datos_delitos[\"Calle_hechos2\"].replace(np.nan,'No aplica')"
      ],
      "execution_count": null,
      "outputs": []
    },
    {
      "cell_type": "markdown",
      "metadata": {
        "id": "anYOVE81dxwB"
      },
      "source": [
        "Se dió el tipo de dato correcto a las columnas que tenían un tipo de dato incorrecto."
      ]
    },
    {
      "cell_type": "code",
      "metadata": {
        "id": "Am7K6jGmeb46"
      },
      "source": [
        "datos_delitos = datos_delitos.astype({\"Ano_hecho\":\"int\",\"Edad\":\"int\"})\n",
        "datos_delitos[\"FechaInicio\"] = pd.to_datetime(datos_delitos['FechaInicio'],dayfirst=True)\n",
        "datos_delitos[\"FechaHecho\"] = pd.to_datetime(datos_delitos['FechaHecho'],dayfirst=True)"
      ],
      "execution_count": null,
      "outputs": []
    },
    {
      "cell_type": "markdown",
      "metadata": {
        "id": "nKwjJYTCejAF"
      },
      "source": [
        "Se hace que el índice sea el id de la carpeta de investigación."
      ]
    },
    {
      "cell_type": "code",
      "metadata": {
        "id": "aI1S8wYDkOn5"
      },
      "source": [
        "datos_delitos = datos_delitos.set_index(\"idCarpeta\")"
      ],
      "execution_count": null,
      "outputs": []
    },
    {
      "cell_type": "markdown",
      "metadata": {
        "id": "16pjmc69kR5c"
      },
      "source": [
        "Se cambiaron los nombres de las columnas por unos más descriptivos y visualmente agradables."
      ]
    },
    {
      "cell_type": "code",
      "metadata": {
        "id": "sxeDMjwOYM1j"
      },
      "source": [
        "datos_delitos.columns = ['Año de denuncia','Mes de denuncia','Fecha de denuncia','Delito','Categoria', 'Sexo', 'Edad',\n",
        "                         'Calidad Juridica', 'Competencia', 'Año de los hechos', 'Mes de los hechos', 'Fecha de los hechos','Hora de los hechos',\n",
        "                         'Hora de denuncia','Alcaldia', 'Colina', 'Calle','Calle 2', 'Latitud', 'Longitud']"
      ],
      "execution_count": null,
      "outputs": []
    },
    {
      "cell_type": "markdown",
      "metadata": {
        "id": "WwECQ-1kka1w"
      },
      "source": [
        "Se creó una función que elimina todos los acentos reemplazandolos por letras normales y que además eliminan los \"/r\" que se habían identificado. Esta función se la aplicamos a la columna de Alcaldía."
      ]
    },
    {
      "cell_type": "code",
      "metadata": {
        "id": "DWvotloGTGBe"
      },
      "source": [
        "def normalize(s):\n",
        "    replacements = (\n",
        "        (\"á\", \"a\"),\n",
        "        (\"é\", \"e\"),\n",
        "        (\"í\", \"i\"),\n",
        "        (\"ó\", \"o\"),\n",
        "        (\"ú\", \"u\"),\n",
        "    )\n",
        "    for a, b in replacements:\n",
        "        s = s.replace(a, b).replace(a.upper(), b.upper()).replace('\\r', '')\n",
        "    return s\n",
        "datos_delitos['Alcaldia'] = datos_delitos['Alcaldia'].apply(normalize)"
      ],
      "execution_count": null,
      "outputs": []
    },
    {
      "cell_type": "markdown",
      "metadata": {
        "id": "aber_ZqfsQ8e"
      },
      "source": [
        "Este es el resultado final de este Data Frame."
      ]
    },
    {
      "cell_type": "code",
      "metadata": {
        "colab": {
          "base_uri": "https://localhost:8080/"
        },
        "id": "dobjtqQqsPyt",
        "outputId": "08342825-4b61-425f-beaa-cfac9e484ced"
      },
      "source": [
        "datos_delitos.head()"
      ],
      "execution_count": null,
      "outputs": [
        {
          "output_type": "execute_result",
          "data": {
            "text/html": [
              "<div>\n",
              "<style scoped>\n",
              "    .dataframe tbody tr th:only-of-type {\n",
              "        vertical-align: middle;\n",
              "    }\n",
              "\n",
              "    .dataframe tbody tr th {\n",
              "        vertical-align: top;\n",
              "    }\n",
              "\n",
              "    .dataframe thead th {\n",
              "        text-align: right;\n",
              "    }\n",
              "</style>\n",
              "<table border=\"1\" class=\"dataframe\">\n",
              "  <thead>\n",
              "    <tr style=\"text-align: right;\">\n",
              "      <th></th>\n",
              "      <th>Año de denuncia</th>\n",
              "      <th>Mes de denuncia</th>\n",
              "      <th>Fecha de denuncia</th>\n",
              "      <th>Delito</th>\n",
              "      <th>Categoria</th>\n",
              "      <th>Sexo</th>\n",
              "      <th>Edad</th>\n",
              "      <th>Calidad Juridica</th>\n",
              "      <th>Competencia</th>\n",
              "      <th>Año de los hechos</th>\n",
              "      <th>Mes de los hechos</th>\n",
              "      <th>Fecha de los hechos</th>\n",
              "      <th>Hora de los hechos</th>\n",
              "      <th>Hora de denuncia</th>\n",
              "      <th>Alcaldia</th>\n",
              "      <th>Colina</th>\n",
              "      <th>Calle</th>\n",
              "      <th>Calle 2</th>\n",
              "      <th>Latitud</th>\n",
              "      <th>Longitud</th>\n",
              "    </tr>\n",
              "    <tr>\n",
              "      <th>idCarpeta</th>\n",
              "      <th></th>\n",
              "      <th></th>\n",
              "      <th></th>\n",
              "      <th></th>\n",
              "      <th></th>\n",
              "      <th></th>\n",
              "      <th></th>\n",
              "      <th></th>\n",
              "      <th></th>\n",
              "      <th></th>\n",
              "      <th></th>\n",
              "      <th></th>\n",
              "      <th></th>\n",
              "      <th></th>\n",
              "      <th></th>\n",
              "      <th></th>\n",
              "      <th></th>\n",
              "      <th></th>\n",
              "      <th></th>\n",
              "      <th></th>\n",
              "    </tr>\n",
              "  </thead>\n",
              "  <tbody>\n",
              "    <tr>\n",
              "      <th>8956142</th>\n",
              "      <td>2021</td>\n",
              "      <td>Junio</td>\n",
              "      <td>2021-06-21</td>\n",
              "      <td>Daño En Propiedad Ajena Culposa Por Tránsito V...</td>\n",
              "      <td>Delito De Bajo Impacto</td>\n",
              "      <td>Masculino</td>\n",
              "      <td>54</td>\n",
              "      <td>Victima Y Denunciante</td>\n",
              "      <td>Fuero Comun</td>\n",
              "      <td>2021</td>\n",
              "      <td>Junio</td>\n",
              "      <td>2021-06-21</td>\n",
              "      <td>13:15:00</td>\n",
              "      <td>19:46:00</td>\n",
              "      <td>Gustavo A. Madero</td>\n",
              "      <td>Tepeyac Insurgentes</td>\n",
              "      <td>Garrido</td>\n",
              "      <td>No aplica</td>\n",
              "      <td>19.4834799460976</td>\n",
              "      <td>-99.1200283199751</td>\n",
              "    </tr>\n",
              "    <tr>\n",
              "      <th>8956143</th>\n",
              "      <td>2021</td>\n",
              "      <td>Junio</td>\n",
              "      <td>2021-06-21</td>\n",
              "      <td>Violencia Familiar</td>\n",
              "      <td>Delito De Bajo Impacto</td>\n",
              "      <td>Femenino</td>\n",
              "      <td>35</td>\n",
              "      <td>Victima Y Denunciante</td>\n",
              "      <td>Fuero Comun</td>\n",
              "      <td>2021</td>\n",
              "      <td>Junio</td>\n",
              "      <td>2021-06-21</td>\n",
              "      <td>04:00:00</td>\n",
              "      <td>19:48:00</td>\n",
              "      <td>Miguel Hidalgo</td>\n",
              "      <td>Anahuac</td>\n",
              "      <td>Lago Zirahuen</td>\n",
              "      <td>2A. Cda. Lago Zirahuen</td>\n",
              "      <td>19.4448680069252</td>\n",
              "      <td>-99.1729071700792</td>\n",
              "    </tr>\n",
              "    <tr>\n",
              "      <th>8956144</th>\n",
              "      <td>2021</td>\n",
              "      <td>Junio</td>\n",
              "      <td>2021-06-21</td>\n",
              "      <td>Abuso Sexual</td>\n",
              "      <td>Delito De Bajo Impacto</td>\n",
              "      <td>Femenino</td>\n",
              "      <td>10</td>\n",
              "      <td>Victima</td>\n",
              "      <td>Fuero Comun</td>\n",
              "      <td>2020</td>\n",
              "      <td>Enero</td>\n",
              "      <td>2020-01-01</td>\n",
              "      <td>11:00:00</td>\n",
              "      <td>19:48:00</td>\n",
              "      <td>Xochimilco</td>\n",
              "      <td>Lomas De Nativitas</td>\n",
              "      <td>Las Flores</td>\n",
              "      <td>No aplica</td>\n",
              "      <td>19.2432760061051</td>\n",
              "      <td>-99.0895155103917</td>\n",
              "    </tr>\n",
              "    <tr>\n",
              "      <th>8956145</th>\n",
              "      <td>2021</td>\n",
              "      <td>Junio</td>\n",
              "      <td>2021-06-21</td>\n",
              "      <td>Lesiones Culposas Por Transito Vehicular</td>\n",
              "      <td>Delito De Bajo Impacto</td>\n",
              "      <td>Femenino</td>\n",
              "      <td>37</td>\n",
              "      <td>Victima Y Denunciante</td>\n",
              "      <td>Fuero Comun</td>\n",
              "      <td>2021</td>\n",
              "      <td>Junio</td>\n",
              "      <td>2021-06-20</td>\n",
              "      <td>23:30:00</td>\n",
              "      <td>19:49:00</td>\n",
              "      <td>Cuajimalpa De Morelos</td>\n",
              "      <td>Cuajimalpa</td>\n",
              "      <td>Avenida Veracruz</td>\n",
              "      <td>Esquina Con Calle Jose Maria Castorena</td>\n",
              "      <td>19.3534741784942</td>\n",
              "      <td>-99.3006026700988</td>\n",
              "    </tr>\n",
              "    <tr>\n",
              "      <th>8956147</th>\n",
              "      <td>2021</td>\n",
              "      <td>Junio</td>\n",
              "      <td>2021-06-21</td>\n",
              "      <td>Violencia Familiar</td>\n",
              "      <td>Delito De Bajo Impacto</td>\n",
              "      <td>Femenino</td>\n",
              "      <td>48</td>\n",
              "      <td>Victima Y Denunciante</td>\n",
              "      <td>Fuero Comun</td>\n",
              "      <td>2021</td>\n",
              "      <td>Junio</td>\n",
              "      <td>2021-06-21</td>\n",
              "      <td>10:30:00</td>\n",
              "      <td>19:54:00</td>\n",
              "      <td>Iztapalapa</td>\n",
              "      <td>San Lucas</td>\n",
              "      <td>Los Reyes</td>\n",
              "      <td>Ermita Iztapalapa</td>\n",
              "      <td>19.3563589238188</td>\n",
              "      <td>-99.1004477397269</td>\n",
              "    </tr>\n",
              "  </tbody>\n",
              "</table>\n",
              "</div>"
            ],
            "text/plain": [
              "           Año de denuncia Mes de denuncia  ...           Latitud           Longitud\n",
              "idCarpeta                                   ...                                     \n",
              "8956142               2021           Junio  ...  19.4834799460976  -99.1200283199751\n",
              "8956143               2021           Junio  ...  19.4448680069252  -99.1729071700792\n",
              "8956144               2021           Junio  ...  19.2432760061051  -99.0895155103917\n",
              "8956145               2021           Junio  ...  19.3534741784942  -99.3006026700988\n",
              "8956147               2021           Junio  ...  19.3563589238188  -99.1004477397269\n",
              "\n",
              "[5 rows x 20 columns]"
            ]
          },
          "metadata": {
            "tags": []
          },
          "execution_count": 660
        }
      ]
    },
    {
      "cell_type": "markdown",
      "metadata": {
        "id": "9TzEWP-qsN7s"
      },
      "source": [
        "Este será el principal Data Frame con el que continuaremos trabajando en los siguientes modulos de BEDU, por lo que lo se exportó y se guardó como un archivo CSV."
      ]
    },
    {
      "cell_type": "code",
      "metadata": {
        "id": "4ce_CQDUs6-S"
      },
      "source": [
        "datos_delitos.to_csv('datos_delitos.csv')"
      ],
      "execution_count": null,
      "outputs": []
    },
    {
      "cell_type": "markdown",
      "metadata": {
        "id": "GoB3ce-BT9Ck"
      },
      "source": [
        "#### ENSU"
      ]
    },
    {
      "cell_type": "markdown",
      "metadata": {
        "id": "kK5odsmGks3D"
      },
      "source": [
        "Se pasó el nombre de la Alcaldía a formato title y le aplicamos la función que elimina acentos y el texto \"/r\"."
      ]
    },
    {
      "cell_type": "code",
      "metadata": {
        "id": "kX_DnJn2UYa3"
      },
      "source": [
        "datos_ensu['NOM_MUN']=datos_ensu['NOM_MUN'].str.title().apply(normalize)"
      ],
      "execution_count": null,
      "outputs": []
    },
    {
      "cell_type": "markdown",
      "metadata": {
        "id": "_BL7FFbAk1Ez"
      },
      "source": [
        "Se renombrarón las columnas y se eligierón unos títulos más descriptivos y agradables visualmente."
      ]
    },
    {
      "cell_type": "code",
      "metadata": {
        "id": "g3aL7823qI6S"
      },
      "source": [
        "datos_ensu.columns = ['Alcaldia','Pregunta 1','Pregunta 3','Fecha']"
      ],
      "execution_count": null,
      "outputs": []
    },
    {
      "cell_type": "markdown",
      "metadata": {
        "id": "gkQ10oS7k7rk"
      },
      "source": [
        "Se transformó a formato de fecha la columna de Fecha."
      ]
    },
    {
      "cell_type": "code",
      "metadata": {
        "id": "Qkioorp3qgMw"
      },
      "source": [
        "datos_ensu['Fecha'] = pd.to_datetime(datos_ensu['Fecha'])"
      ],
      "execution_count": null,
      "outputs": []
    },
    {
      "cell_type": "markdown",
      "metadata": {
        "id": "yNZ8RIH7lJnP"
      },
      "source": [
        "Se hizo un doble índice con las columnas Alcaldía y Fecha."
      ]
    },
    {
      "cell_type": "code",
      "metadata": {
        "id": "yif9KsHnFbDx"
      },
      "source": [
        "datos_ensu=datos_ensu.set_index(['Alcaldia','Fecha'])"
      ],
      "execution_count": null,
      "outputs": []
    },
    {
      "cell_type": "markdown",
      "metadata": {
        "id": "JWtgCoWKUY3g"
      },
      "source": [
        "#### Censo Población y Vivienda 2020"
      ]
    },
    {
      "cell_type": "markdown",
      "metadata": {
        "id": "JCXPI1bNl8xG"
      },
      "source": [
        "Se cambió el nombre de las Alcaldías a formato \"title\" y se aplicó la función elimina acentos y el texto \"/r\"."
      ]
    },
    {
      "cell_type": "code",
      "metadata": {
        "id": "pYlXOzquq4z0"
      },
      "source": [
        "datos_censo['NOM_MUN'] = datos_censo['NOM_MUN'].str.title().apply(normalize)"
      ],
      "execution_count": null,
      "outputs": []
    },
    {
      "cell_type": "markdown",
      "metadata": {
        "id": "3aots2qImBEb"
      },
      "source": [
        "Se renombraron las columnas por unas más descriptivas y agradables visualmente."
      ]
    },
    {
      "cell_type": "code",
      "metadata": {
        "id": "baP6hTnorBDp"
      },
      "source": [
        "datos_censo.columns = ['Alcaldia', 'Poblacion','Poblacion economicamente inactiva','Grado promedio']"
      ],
      "execution_count": null,
      "outputs": []
    },
    {
      "cell_type": "markdown",
      "metadata": {
        "id": "d1YamWUvmDhC"
      },
      "source": [
        "Se estableció la columna Alcaldía como índice."
      ]
    },
    {
      "cell_type": "code",
      "metadata": {
        "id": "rWUKwEYbrldq"
      },
      "source": [
        "datos_censo = datos_censo.set_index(\"Alcaldia\")"
      ],
      "execution_count": null,
      "outputs": []
    },
    {
      "cell_type": "markdown",
      "metadata": {
        "id": "K6Us7bg4mIqW"
      },
      "source": [
        "Se transformaron a tipo numérico todas las columnas que lo requerían."
      ]
    },
    {
      "cell_type": "code",
      "metadata": {
        "id": "kNwL3rejFJDw"
      },
      "source": [
        "for columna in datos_censo.columns:\n",
        "  datos_censo[columna] = pd.to_numeric(datos_censo[columna])"
      ],
      "execution_count": null,
      "outputs": []
    },
    {
      "cell_type": "markdown",
      "metadata": {
        "id": "OuZXCxLNDmdN"
      },
      "source": [
        "---"
      ]
    },
    {
      "cell_type": "markdown",
      "metadata": {
        "id": "ZLgGJpJlDn51"
      },
      "source": [
        "## **Procesamiento de datos**"
      ]
    },
    {
      "cell_type": "markdown",
      "metadata": {
        "id": "_MLh2bZLmOi_"
      },
      "source": [
        "Se creó una serie que contiene el número de delitos que se registraron por Alcaldía."
      ]
    },
    {
      "cell_type": "code",
      "metadata": {
        "id": "F1PkdAqhI18I"
      },
      "source": [
        "delitos_por_alcaldia = datos_delitos.groupby('Alcaldia').size()"
      ],
      "execution_count": null,
      "outputs": []
    },
    {
      "cell_type": "markdown",
      "metadata": {
        "id": "bgaRn3DLmUUZ"
      },
      "source": [
        "Se crearon columnas dummies para los valores de la Pregunta 3."
      ]
    },
    {
      "cell_type": "code",
      "metadata": {
        "id": "hcYEoa8e2bUu"
      },
      "source": [
        "datos_ensu = pd.get_dummies(datos_ensu, columns=['Pregunta 3'])"
      ],
      "execution_count": null,
      "outputs": []
    },
    {
      "cell_type": "markdown",
      "metadata": {
        "id": "xHpNt6avnHb9"
      },
      "source": [
        "Se hicieron que todos los 9 sean igual a  NaN coN np.nan, ya que éste es el valor cuando no se responde esa pregunta. De esta forma esos valores no iterfieren al hacer promedios y sumas."
      ]
    },
    {
      "cell_type": "code",
      "metadata": {
        "id": "_ZG3XHMhnC-q"
      },
      "source": [
        "datos_ensu=datos_ensu.replace(9,np.nan)"
      ],
      "execution_count": null,
      "outputs": []
    },
    {
      "cell_type": "markdown",
      "metadata": {
        "id": "QzQLR1PGm79b"
      },
      "source": [
        "Se restó 1 a toda la columna de la Pregunta 1."
      ]
    },
    {
      "cell_type": "code",
      "metadata": {
        "id": "qDeVm7Msm7nq"
      },
      "source": [
        "datos_ensu['Pregunta 1']=datos_ensu['Pregunta 1']-1"
      ],
      "execution_count": null,
      "outputs": []
    },
    {
      "cell_type": "markdown",
      "metadata": {
        "id": "0UzzZ6P0oE7N"
      },
      "source": [
        "Se agrupó por alcaldia y se calculó el numero de personas que votaron por cada opción de la pregunta 3."
      ]
    },
    {
      "cell_type": "code",
      "metadata": {
        "id": "yn5ZdP8E3qke"
      },
      "source": [
        "pregunta3_alcaldia = datos_ensu[['Pregunta 3_1','Pregunta 3_2','Pregunta 3_3','Pregunta 3_4']].groupby(level='Alcaldia').sum()\n",
        "pregunta3_alcaldia.columns=['Mejorara','Seguira igual de bien','Seguira igual de mal','Empeorara']\n",
        "pregunta3_alcaldia['total']=pregunta3_alcaldia.sum(axis=1)"
      ],
      "execution_count": null,
      "outputs": []
    },
    {
      "cell_type": "markdown",
      "metadata": {
        "id": "xWUl7P-9oNGc"
      },
      "source": [
        "Se pasó el resultado a porcentaje, ya que el número de personas que respondió la encuesta por alcaldía es diferente."
      ]
    },
    {
      "cell_type": "code",
      "metadata": {
        "id": "v2uiuTEx31d9"
      },
      "source": [
        "for i in pregunta3_alcaldia.columns:\n",
        "    pregunta3_alcaldia[i]=pregunta3_alcaldia[i]/pregunta3_alcaldia['total']"
      ],
      "execution_count": null,
      "outputs": []
    },
    {
      "cell_type": "markdown",
      "metadata": {
        "id": "vQCfswKfoVKK"
      },
      "source": [
        "Se obtuvo el promedio por alcaldía para la pregunta 1."
      ]
    },
    {
      "cell_type": "code",
      "metadata": {
        "id": "tiOKsKIK36aV"
      },
      "source": [
        "pregunta1_alcaldia = datos_ensu[['Pregunta 1']].groupby('Alcaldia').mean()\n",
        "pregunta1_alcaldia.columns=['Percepcion Inseguridad']"
      ],
      "execution_count": null,
      "outputs": []
    },
    {
      "cell_type": "markdown",
      "metadata": {
        "id": "cXhYEkSPoYva"
      },
      "source": [
        "Se concatenron los Data Frames de cada una de las preguntas en uno solo para obtener los resultados de las preguntas 1 y 3 por alcaldía."
      ]
    },
    {
      "cell_type": "code",
      "metadata": {
        "colab": {
          "base_uri": "https://localhost:8080/"
        },
        "id": "k1LWHGA85YGk",
        "outputId": "6a76e4b5-7f6d-4a25-ad84-6f4264de259c"
      },
      "source": [
        "ensu_por_alcaldia = pd.merge(pregunta1_alcaldia,pregunta3_alcaldia.iloc[:,:4], left_index=True, right_index=True)\n",
        "ensu_por_alcaldia"
      ],
      "execution_count": null,
      "outputs": [
        {
          "output_type": "execute_result",
          "data": {
            "text/html": [
              "<div>\n",
              "<style scoped>\n",
              "    .dataframe tbody tr th:only-of-type {\n",
              "        vertical-align: middle;\n",
              "    }\n",
              "\n",
              "    .dataframe tbody tr th {\n",
              "        vertical-align: top;\n",
              "    }\n",
              "\n",
              "    .dataframe thead th {\n",
              "        text-align: right;\n",
              "    }\n",
              "</style>\n",
              "<table border=\"1\" class=\"dataframe\">\n",
              "  <thead>\n",
              "    <tr style=\"text-align: right;\">\n",
              "      <th></th>\n",
              "      <th>Percepcion Inseguridad</th>\n",
              "      <th>Mejorara</th>\n",
              "      <th>Seguira igual de bien</th>\n",
              "      <th>Seguira igual de mal</th>\n",
              "      <th>Empeorara</th>\n",
              "    </tr>\n",
              "    <tr>\n",
              "      <th>Alcaldia</th>\n",
              "      <th></th>\n",
              "      <th></th>\n",
              "      <th></th>\n",
              "      <th></th>\n",
              "      <th></th>\n",
              "    </tr>\n",
              "  </thead>\n",
              "  <tbody>\n",
              "    <tr>\n",
              "      <th>Alvaro Obregon</th>\n",
              "      <td>0.832045</td>\n",
              "      <td>0.189423</td>\n",
              "      <td>0.064153</td>\n",
              "      <td>0.365843</td>\n",
              "      <td>0.380581</td>\n",
              "    </tr>\n",
              "    <tr>\n",
              "      <th>Azcapotzalco</th>\n",
              "      <td>0.797304</td>\n",
              "      <td>0.275499</td>\n",
              "      <td>0.073081</td>\n",
              "      <td>0.338065</td>\n",
              "      <td>0.313354</td>\n",
              "    </tr>\n",
              "    <tr>\n",
              "      <th>Benito Juarez</th>\n",
              "      <td>0.570858</td>\n",
              "      <td>0.213353</td>\n",
              "      <td>0.179217</td>\n",
              "      <td>0.296185</td>\n",
              "      <td>0.311245</td>\n",
              "    </tr>\n",
              "    <tr>\n",
              "      <th>Coyoacan</th>\n",
              "      <td>0.711749</td>\n",
              "      <td>0.227019</td>\n",
              "      <td>0.116992</td>\n",
              "      <td>0.324977</td>\n",
              "      <td>0.331012</td>\n",
              "    </tr>\n",
              "    <tr>\n",
              "      <th>Cuajimalpa De Morelos</th>\n",
              "      <td>0.471257</td>\n",
              "      <td>0.306318</td>\n",
              "      <td>0.234844</td>\n",
              "      <td>0.238034</td>\n",
              "      <td>0.220804</td>\n",
              "    </tr>\n",
              "    <tr>\n",
              "      <th>Cuauhtemoc</th>\n",
              "      <td>0.760204</td>\n",
              "      <td>0.217065</td>\n",
              "      <td>0.104548</td>\n",
              "      <td>0.374121</td>\n",
              "      <td>0.304266</td>\n",
              "    </tr>\n",
              "    <tr>\n",
              "      <th>Gustavo A. Madero</th>\n",
              "      <td>0.850827</td>\n",
              "      <td>0.209231</td>\n",
              "      <td>0.043761</td>\n",
              "      <td>0.383932</td>\n",
              "      <td>0.363077</td>\n",
              "    </tr>\n",
              "    <tr>\n",
              "      <th>Iztacalco</th>\n",
              "      <td>0.827869</td>\n",
              "      <td>0.209568</td>\n",
              "      <td>0.074363</td>\n",
              "      <td>0.396776</td>\n",
              "      <td>0.319293</td>\n",
              "    </tr>\n",
              "    <tr>\n",
              "      <th>Iztapalapa</th>\n",
              "      <td>0.894839</td>\n",
              "      <td>0.252361</td>\n",
              "      <td>0.037773</td>\n",
              "      <td>0.355585</td>\n",
              "      <td>0.354282</td>\n",
              "    </tr>\n",
              "    <tr>\n",
              "      <th>La Magdalena Contreras</th>\n",
              "      <td>0.743764</td>\n",
              "      <td>0.241339</td>\n",
              "      <td>0.090069</td>\n",
              "      <td>0.310046</td>\n",
              "      <td>0.358545</td>\n",
              "    </tr>\n",
              "    <tr>\n",
              "      <th>Miguel Hidalgo</th>\n",
              "      <td>0.700845</td>\n",
              "      <td>0.231513</td>\n",
              "      <td>0.152446</td>\n",
              "      <td>0.339590</td>\n",
              "      <td>0.276451</td>\n",
              "    </tr>\n",
              "    <tr>\n",
              "      <th>Milpa Alta</th>\n",
              "      <td>0.637544</td>\n",
              "      <td>0.205794</td>\n",
              "      <td>0.150875</td>\n",
              "      <td>0.327097</td>\n",
              "      <td>0.316234</td>\n",
              "    </tr>\n",
              "    <tr>\n",
              "      <th>Tlahuac</th>\n",
              "      <td>0.819194</td>\n",
              "      <td>0.228587</td>\n",
              "      <td>0.086724</td>\n",
              "      <td>0.357066</td>\n",
              "      <td>0.327623</td>\n",
              "    </tr>\n",
              "    <tr>\n",
              "      <th>Tlalpan</th>\n",
              "      <td>0.801310</td>\n",
              "      <td>0.201058</td>\n",
              "      <td>0.068342</td>\n",
              "      <td>0.384480</td>\n",
              "      <td>0.346120</td>\n",
              "    </tr>\n",
              "    <tr>\n",
              "      <th>Venustiano Carranza</th>\n",
              "      <td>0.739302</td>\n",
              "      <td>0.263627</td>\n",
              "      <td>0.104063</td>\n",
              "      <td>0.373142</td>\n",
              "      <td>0.259167</td>\n",
              "    </tr>\n",
              "    <tr>\n",
              "      <th>Xochimilco</th>\n",
              "      <td>0.808101</td>\n",
              "      <td>0.227621</td>\n",
              "      <td>0.059847</td>\n",
              "      <td>0.357545</td>\n",
              "      <td>0.354987</td>\n",
              "    </tr>\n",
              "  </tbody>\n",
              "</table>\n",
              "</div>"
            ],
            "text/plain": [
              "                        Percepcion Inseguridad  ...  Empeorara\n",
              "Alcaldia                                        ...           \n",
              "Alvaro Obregon                        0.832045  ...   0.380581\n",
              "Azcapotzalco                          0.797304  ...   0.313354\n",
              "Benito Juarez                         0.570858  ...   0.311245\n",
              "Coyoacan                              0.711749  ...   0.331012\n",
              "Cuajimalpa De Morelos                 0.471257  ...   0.220804\n",
              "Cuauhtemoc                            0.760204  ...   0.304266\n",
              "Gustavo A. Madero                     0.850827  ...   0.363077\n",
              "Iztacalco                             0.827869  ...   0.319293\n",
              "Iztapalapa                            0.894839  ...   0.354282\n",
              "La Magdalena Contreras                0.743764  ...   0.358545\n",
              "Miguel Hidalgo                        0.700845  ...   0.276451\n",
              "Milpa Alta                            0.637544  ...   0.316234\n",
              "Tlahuac                               0.819194  ...   0.327623\n",
              "Tlalpan                               0.801310  ...   0.346120\n",
              "Venustiano Carranza                   0.739302  ...   0.259167\n",
              "Xochimilco                            0.808101  ...   0.354987\n",
              "\n",
              "[16 rows x 5 columns]"
            ]
          },
          "metadata": {
            "tags": []
          },
          "execution_count": 677
        }
      ]
    },
    {
      "cell_type": "markdown",
      "metadata": {
        "id": "VwAxk3KKo3I7"
      },
      "source": [
        "Se hizo algo muy parecido pero agrupando por fecha."
      ]
    },
    {
      "cell_type": "code",
      "metadata": {
        "id": "nN3DX6Zb_e_w"
      },
      "source": [
        "pregunta3_fecha = datos_ensu[['Pregunta 3_1','Pregunta 3_2','Pregunta 3_3','Pregunta 3_4']].groupby(level='Fecha').sum()\n",
        "pregunta3_fecha.columns=['Mejorara','Seguira igual de bien','Seguira igual de mal','Empeorara']\n",
        "pregunta3_fecha['total']=pregunta3_fecha.sum(axis=1)"
      ],
      "execution_count": null,
      "outputs": []
    },
    {
      "cell_type": "code",
      "metadata": {
        "id": "LznWTcWb_kzx"
      },
      "source": [
        "for i in pregunta3_fecha.columns:\n",
        "    pregunta3_fecha[i]=pregunta3_fecha[i]/pregunta3_fecha['total']"
      ],
      "execution_count": null,
      "outputs": []
    },
    {
      "cell_type": "code",
      "metadata": {
        "id": "qKfcfft0_o57"
      },
      "source": [
        "pregunta1_fecha = datos_ensu[['Pregunta 1']].groupby('Fecha').mean()\n",
        "pregunta1_fecha.columns=['Percepcion Inseguridad']"
      ],
      "execution_count": null,
      "outputs": []
    },
    {
      "cell_type": "code",
      "metadata": {
        "colab": {
          "base_uri": "https://localhost:8080/"
        },
        "id": "evE0eKpC_sN_",
        "outputId": "2c6a57ea-b2b8-4119-d308-9d4aeafe7f03"
      },
      "source": [
        "ensu_por_fecha = pd.merge(pregunta1_fecha,pregunta3_fecha.iloc[:,:4], left_index=True, right_index=True)\n",
        "ensu_por_fecha"
      ],
      "execution_count": null,
      "outputs": [
        {
          "output_type": "execute_result",
          "data": {
            "text/html": [
              "<div>\n",
              "<style scoped>\n",
              "    .dataframe tbody tr th:only-of-type {\n",
              "        vertical-align: middle;\n",
              "    }\n",
              "\n",
              "    .dataframe tbody tr th {\n",
              "        vertical-align: top;\n",
              "    }\n",
              "\n",
              "    .dataframe thead th {\n",
              "        text-align: right;\n",
              "    }\n",
              "</style>\n",
              "<table border=\"1\" class=\"dataframe\">\n",
              "  <thead>\n",
              "    <tr style=\"text-align: right;\">\n",
              "      <th></th>\n",
              "      <th>Percepcion Inseguridad</th>\n",
              "      <th>Mejorara</th>\n",
              "      <th>Seguira igual de bien</th>\n",
              "      <th>Seguira igual de mal</th>\n",
              "      <th>Empeorara</th>\n",
              "    </tr>\n",
              "    <tr>\n",
              "      <th>Fecha</th>\n",
              "      <th></th>\n",
              "      <th></th>\n",
              "      <th></th>\n",
              "      <th></th>\n",
              "      <th></th>\n",
              "    </tr>\n",
              "  </thead>\n",
              "  <tbody>\n",
              "    <tr>\n",
              "      <th>2017-03-01</th>\n",
              "      <td>0.884821</td>\n",
              "      <td>0.097583</td>\n",
              "      <td>0.060877</td>\n",
              "      <td>0.412713</td>\n",
              "      <td>0.428827</td>\n",
              "    </tr>\n",
              "    <tr>\n",
              "      <th>2017-06-01</th>\n",
              "      <td>0.856109</td>\n",
              "      <td>0.094118</td>\n",
              "      <td>0.039819</td>\n",
              "      <td>0.409955</td>\n",
              "      <td>0.456109</td>\n",
              "    </tr>\n",
              "    <tr>\n",
              "      <th>2017-09-01</th>\n",
              "      <td>0.907540</td>\n",
              "      <td>0.064195</td>\n",
              "      <td>0.035262</td>\n",
              "      <td>0.418626</td>\n",
              "      <td>0.481917</td>\n",
              "    </tr>\n",
              "    <tr>\n",
              "      <th>2017-12-01</th>\n",
              "      <td>0.907856</td>\n",
              "      <td>0.093567</td>\n",
              "      <td>0.028265</td>\n",
              "      <td>0.399610</td>\n",
              "      <td>0.478558</td>\n",
              "    </tr>\n",
              "    <tr>\n",
              "      <th>2018-03-01</th>\n",
              "      <td>0.921381</td>\n",
              "      <td>0.085686</td>\n",
              "      <td>0.037975</td>\n",
              "      <td>0.401168</td>\n",
              "      <td>0.475170</td>\n",
              "    </tr>\n",
              "    <tr>\n",
              "      <th>2018-06-01</th>\n",
              "      <td>0.909599</td>\n",
              "      <td>0.162289</td>\n",
              "      <td>0.019700</td>\n",
              "      <td>0.378049</td>\n",
              "      <td>0.439962</td>\n",
              "    </tr>\n",
              "    <tr>\n",
              "      <th>2018-09-01</th>\n",
              "      <td>0.779190</td>\n",
              "      <td>0.331645</td>\n",
              "      <td>0.074913</td>\n",
              "      <td>0.353239</td>\n",
              "      <td>0.240203</td>\n",
              "    </tr>\n",
              "    <tr>\n",
              "      <th>2018-12-01</th>\n",
              "      <td>0.820937</td>\n",
              "      <td>0.481928</td>\n",
              "      <td>0.050046</td>\n",
              "      <td>0.306766</td>\n",
              "      <td>0.161260</td>\n",
              "    </tr>\n",
              "    <tr>\n",
              "      <th>2019-06-01</th>\n",
              "      <td>0.842441</td>\n",
              "      <td>0.287684</td>\n",
              "      <td>0.052390</td>\n",
              "      <td>0.344669</td>\n",
              "      <td>0.315257</td>\n",
              "    </tr>\n",
              "    <tr>\n",
              "      <th>2019-09-01</th>\n",
              "      <td>0.727230</td>\n",
              "      <td>0.295027</td>\n",
              "      <td>0.104687</td>\n",
              "      <td>0.325244</td>\n",
              "      <td>0.275042</td>\n",
              "    </tr>\n",
              "    <tr>\n",
              "      <th>2019-12-01</th>\n",
              "      <td>0.737616</td>\n",
              "      <td>0.287431</td>\n",
              "      <td>0.102379</td>\n",
              "      <td>0.333093</td>\n",
              "      <td>0.277097</td>\n",
              "    </tr>\n",
              "    <tr>\n",
              "      <th>2020-03-01</th>\n",
              "      <td>0.729308</td>\n",
              "      <td>0.215923</td>\n",
              "      <td>0.116938</td>\n",
              "      <td>0.371840</td>\n",
              "      <td>0.295299</td>\n",
              "    </tr>\n",
              "    <tr>\n",
              "      <th>2020-09-01</th>\n",
              "      <td>0.675259</td>\n",
              "      <td>0.192027</td>\n",
              "      <td>0.148031</td>\n",
              "      <td>0.308702</td>\n",
              "      <td>0.351240</td>\n",
              "    </tr>\n",
              "    <tr>\n",
              "      <th>2020-12-01</th>\n",
              "      <td>0.671834</td>\n",
              "      <td>0.186808</td>\n",
              "      <td>0.142032</td>\n",
              "      <td>0.328117</td>\n",
              "      <td>0.343043</td>\n",
              "    </tr>\n",
              "  </tbody>\n",
              "</table>\n",
              "</div>"
            ],
            "text/plain": [
              "            Percepcion Inseguridad  Mejorara  ...  Seguira igual de mal  Empeorara\n",
              "Fecha                                         ...                                 \n",
              "2017-03-01                0.884821  0.097583  ...              0.412713   0.428827\n",
              "2017-06-01                0.856109  0.094118  ...              0.409955   0.456109\n",
              "2017-09-01                0.907540  0.064195  ...              0.418626   0.481917\n",
              "2017-12-01                0.907856  0.093567  ...              0.399610   0.478558\n",
              "2018-03-01                0.921381  0.085686  ...              0.401168   0.475170\n",
              "2018-06-01                0.909599  0.162289  ...              0.378049   0.439962\n",
              "2018-09-01                0.779190  0.331645  ...              0.353239   0.240203\n",
              "2018-12-01                0.820937  0.481928  ...              0.306766   0.161260\n",
              "2019-06-01                0.842441  0.287684  ...              0.344669   0.315257\n",
              "2019-09-01                0.727230  0.295027  ...              0.325244   0.275042\n",
              "2019-12-01                0.737616  0.287431  ...              0.333093   0.277097\n",
              "2020-03-01                0.729308  0.215923  ...              0.371840   0.295299\n",
              "2020-09-01                0.675259  0.192027  ...              0.308702   0.351240\n",
              "2020-12-01                0.671834  0.186808  ...              0.328117   0.343043\n",
              "\n",
              "[14 rows x 5 columns]"
            ]
          },
          "metadata": {
            "tags": []
          },
          "execution_count": 681
        }
      ]
    },
    {
      "cell_type": "markdown",
      "metadata": {
        "id": "c4wFtMuDo_YQ"
      },
      "source": [
        "Finalmente, se concatenó el DataFrame que habiamos obtenido del censo con la serie que nos muestra el numero de delitos por alcaldía y con el resumen obtenido de las preguntas 1 y 3 de la ENSU por alcaldía."
      ]
    },
    {
      "cell_type": "code",
      "metadata": {
        "id": "FsIjwfgu__cp"
      },
      "source": [
        "resumen_alcaldia = pd.concat([datos_censo,pd.Series(delitos_por_alcaldia, name=\"Numero de Delitos\"),ensu_por_alcaldia],axis=1)"
      ],
      "execution_count": null,
      "outputs": []
    },
    {
      "cell_type": "code",
      "metadata": {
        "colab": {
          "base_uri": "https://localhost:8080/"
        },
        "id": "2h6fc8dvAM-y",
        "outputId": "e44ad785-72c3-4385-e2ce-73d7230441ea"
      },
      "source": [
        "resumen_alcaldia"
      ],
      "execution_count": null,
      "outputs": [
        {
          "output_type": "execute_result",
          "data": {
            "text/html": [
              "<div>\n",
              "<style scoped>\n",
              "    .dataframe tbody tr th:only-of-type {\n",
              "        vertical-align: middle;\n",
              "    }\n",
              "\n",
              "    .dataframe tbody tr th {\n",
              "        vertical-align: top;\n",
              "    }\n",
              "\n",
              "    .dataframe thead th {\n",
              "        text-align: right;\n",
              "    }\n",
              "</style>\n",
              "<table border=\"1\" class=\"dataframe\">\n",
              "  <thead>\n",
              "    <tr style=\"text-align: right;\">\n",
              "      <th></th>\n",
              "      <th>Poblacion</th>\n",
              "      <th>Poblacion economicamente inactiva</th>\n",
              "      <th>Grado promedio</th>\n",
              "      <th>Numero de Delitos</th>\n",
              "      <th>Percepcion Inseguridad</th>\n",
              "      <th>Mejorara</th>\n",
              "      <th>Seguira igual de bien</th>\n",
              "      <th>Seguira igual de mal</th>\n",
              "      <th>Empeorara</th>\n",
              "    </tr>\n",
              "  </thead>\n",
              "  <tbody>\n",
              "    <tr>\n",
              "      <th>Azcapotzalco</th>\n",
              "      <td>432205</td>\n",
              "      <td>137554</td>\n",
              "      <td>11.91</td>\n",
              "      <td>17444</td>\n",
              "      <td>0.797304</td>\n",
              "      <td>0.275499</td>\n",
              "      <td>0.073081</td>\n",
              "      <td>0.338065</td>\n",
              "      <td>0.313354</td>\n",
              "    </tr>\n",
              "    <tr>\n",
              "      <th>Coyoacan</th>\n",
              "      <td>614447</td>\n",
              "      <td>202374</td>\n",
              "      <td>12.51</td>\n",
              "      <td>24531</td>\n",
              "      <td>0.711749</td>\n",
              "      <td>0.227019</td>\n",
              "      <td>0.116992</td>\n",
              "      <td>0.324977</td>\n",
              "      <td>0.331012</td>\n",
              "    </tr>\n",
              "    <tr>\n",
              "      <th>Cuajimalpa De Morelos</th>\n",
              "      <td>217686</td>\n",
              "      <td>61443</td>\n",
              "      <td>11.44</td>\n",
              "      <td>4697</td>\n",
              "      <td>0.471257</td>\n",
              "      <td>0.306318</td>\n",
              "      <td>0.234844</td>\n",
              "      <td>0.238034</td>\n",
              "      <td>0.220804</td>\n",
              "    </tr>\n",
              "    <tr>\n",
              "      <th>Gustavo A. Madero</th>\n",
              "      <td>1173351</td>\n",
              "      <td>387814</td>\n",
              "      <td>11.11</td>\n",
              "      <td>37965</td>\n",
              "      <td>0.850827</td>\n",
              "      <td>0.209231</td>\n",
              "      <td>0.043761</td>\n",
              "      <td>0.383932</td>\n",
              "      <td>0.363077</td>\n",
              "    </tr>\n",
              "    <tr>\n",
              "      <th>Iztacalco</th>\n",
              "      <td>404695</td>\n",
              "      <td>125126</td>\n",
              "      <td>11.52</td>\n",
              "      <td>15699</td>\n",
              "      <td>0.827869</td>\n",
              "      <td>0.209568</td>\n",
              "      <td>0.074363</td>\n",
              "      <td>0.396776</td>\n",
              "      <td>0.319293</td>\n",
              "    </tr>\n",
              "    <tr>\n",
              "      <th>Iztapalapa</th>\n",
              "      <td>1835486</td>\n",
              "      <td>563273</td>\n",
              "      <td>10.42</td>\n",
              "      <td>54402</td>\n",
              "      <td>0.894839</td>\n",
              "      <td>0.252361</td>\n",
              "      <td>0.037773</td>\n",
              "      <td>0.355585</td>\n",
              "      <td>0.354282</td>\n",
              "    </tr>\n",
              "    <tr>\n",
              "      <th>La Magdalena Contreras</th>\n",
              "      <td>247622</td>\n",
              "      <td>77368</td>\n",
              "      <td>10.84</td>\n",
              "      <td>7922</td>\n",
              "      <td>0.743764</td>\n",
              "      <td>0.241339</td>\n",
              "      <td>0.090069</td>\n",
              "      <td>0.310046</td>\n",
              "      <td>0.358545</td>\n",
              "    </tr>\n",
              "    <tr>\n",
              "      <th>Milpa Alta</th>\n",
              "      <td>152685</td>\n",
              "      <td>40847</td>\n",
              "      <td>9.95</td>\n",
              "      <td>3330</td>\n",
              "      <td>0.637544</td>\n",
              "      <td>0.205794</td>\n",
              "      <td>0.150875</td>\n",
              "      <td>0.327097</td>\n",
              "      <td>0.316234</td>\n",
              "    </tr>\n",
              "    <tr>\n",
              "      <th>Alvaro Obregon</th>\n",
              "      <td>759137</td>\n",
              "      <td>228035</td>\n",
              "      <td>11.28</td>\n",
              "      <td>25001</td>\n",
              "      <td>0.832045</td>\n",
              "      <td>0.189423</td>\n",
              "      <td>0.064153</td>\n",
              "      <td>0.365843</td>\n",
              "      <td>0.380581</td>\n",
              "    </tr>\n",
              "    <tr>\n",
              "      <th>Tlahuac</th>\n",
              "      <td>392313</td>\n",
              "      <td>119860</td>\n",
              "      <td>10.53</td>\n",
              "      <td>10995</td>\n",
              "      <td>0.819194</td>\n",
              "      <td>0.228587</td>\n",
              "      <td>0.086724</td>\n",
              "      <td>0.357066</td>\n",
              "      <td>0.327623</td>\n",
              "    </tr>\n",
              "    <tr>\n",
              "      <th>Tlalpan</th>\n",
              "      <td>699928</td>\n",
              "      <td>213329</td>\n",
              "      <td>11.50</td>\n",
              "      <td>22317</td>\n",
              "      <td>0.801310</td>\n",
              "      <td>0.201058</td>\n",
              "      <td>0.068342</td>\n",
              "      <td>0.384480</td>\n",
              "      <td>0.346120</td>\n",
              "    </tr>\n",
              "    <tr>\n",
              "      <th>Xochimilco</th>\n",
              "      <td>442178</td>\n",
              "      <td>136753</td>\n",
              "      <td>10.84</td>\n",
              "      <td>12251</td>\n",
              "      <td>0.808101</td>\n",
              "      <td>0.227621</td>\n",
              "      <td>0.059847</td>\n",
              "      <td>0.357545</td>\n",
              "      <td>0.354987</td>\n",
              "    </tr>\n",
              "    <tr>\n",
              "      <th>Benito Juarez</th>\n",
              "      <td>434153</td>\n",
              "      <td>115666</td>\n",
              "      <td>14.55</td>\n",
              "      <td>26413</td>\n",
              "      <td>0.570858</td>\n",
              "      <td>0.213353</td>\n",
              "      <td>0.179217</td>\n",
              "      <td>0.296185</td>\n",
              "      <td>0.311245</td>\n",
              "    </tr>\n",
              "    <tr>\n",
              "      <th>Cuauhtemoc</th>\n",
              "      <td>545884</td>\n",
              "      <td>141674</td>\n",
              "      <td>12.41</td>\n",
              "      <td>41767</td>\n",
              "      <td>0.760204</td>\n",
              "      <td>0.217065</td>\n",
              "      <td>0.104548</td>\n",
              "      <td>0.374121</td>\n",
              "      <td>0.304266</td>\n",
              "    </tr>\n",
              "    <tr>\n",
              "      <th>Miguel Hidalgo</th>\n",
              "      <td>414470</td>\n",
              "      <td>113569</td>\n",
              "      <td>13.11</td>\n",
              "      <td>21078</td>\n",
              "      <td>0.700845</td>\n",
              "      <td>0.231513</td>\n",
              "      <td>0.152446</td>\n",
              "      <td>0.339590</td>\n",
              "      <td>0.276451</td>\n",
              "    </tr>\n",
              "    <tr>\n",
              "      <th>Venustiano Carranza</th>\n",
              "      <td>443704</td>\n",
              "      <td>133894</td>\n",
              "      <td>11.46</td>\n",
              "      <td>19268</td>\n",
              "      <td>0.739302</td>\n",
              "      <td>0.263627</td>\n",
              "      <td>0.104063</td>\n",
              "      <td>0.373142</td>\n",
              "      <td>0.259167</td>\n",
              "    </tr>\n",
              "  </tbody>\n",
              "</table>\n",
              "</div>"
            ],
            "text/plain": [
              "                        Poblacion  ...  Empeorara\n",
              "Azcapotzalco               432205  ...   0.313354\n",
              "Coyoacan                   614447  ...   0.331012\n",
              "Cuajimalpa De Morelos      217686  ...   0.220804\n",
              "Gustavo A. Madero         1173351  ...   0.363077\n",
              "Iztacalco                  404695  ...   0.319293\n",
              "Iztapalapa                1835486  ...   0.354282\n",
              "La Magdalena Contreras     247622  ...   0.358545\n",
              "Milpa Alta                 152685  ...   0.316234\n",
              "Alvaro Obregon             759137  ...   0.380581\n",
              "Tlahuac                    392313  ...   0.327623\n",
              "Tlalpan                    699928  ...   0.346120\n",
              "Xochimilco                 442178  ...   0.354987\n",
              "Benito Juarez              434153  ...   0.311245\n",
              "Cuauhtemoc                 545884  ...   0.304266\n",
              "Miguel Hidalgo             414470  ...   0.276451\n",
              "Venustiano Carranza        443704  ...   0.259167\n",
              "\n",
              "[16 rows x 9 columns]"
            ]
          },
          "metadata": {
            "tags": []
          },
          "execution_count": 683
        }
      ]
    },
    {
      "cell_type": "markdown",
      "metadata": {
        "id": "39hoG5Oopen7"
      },
      "source": [
        "Éste es el segundo Data Frame con el que trabajaremos para resolver las preguntas planteadas al inicio por lo que lo exportamos."
      ]
    },
    {
      "cell_type": "code",
      "metadata": {
        "id": "1sH5xlpqsBtA"
      },
      "source": [
        "resumen_alcaldia.to_csv('resumen_alcaldia.csv')"
      ],
      "execution_count": null,
      "outputs": []
    },
    {
      "cell_type": "markdown",
      "metadata": {
        "id": "dmtxWSl7vFkf"
      },
      "source": [
        "Finalmente, usando los 2 DataFrames que se generaron, se resuelven algunas de las preguntas."
      ]
    },
    {
      "cell_type": "markdown",
      "metadata": {
        "id": "z32mWwCHylPd"
      },
      "source": [
        "1. ¿En qué alcaldía se comete el mayor número de delitos?"
      ]
    },
    {
      "cell_type": "code",
      "metadata": {
        "colab": {
          "base_uri": "https://localhost:8080/",
          "height": 281
        },
        "id": "F2PNltjTvM1t",
        "outputId": "e6f67a99-6fc7-4adb-fca7-6369e555603e"
      },
      "source": [
        "datos_delitos['Alcaldia'].value_counts().sort_values(ascending=True).plot.barh(alpha = 0.7, color='#00CED1')\n",
        "plt.title('Numero de delitos por Alcaldia')\n",
        "plt.show()"
      ],
      "execution_count": null,
      "outputs": [
        {
          "output_type": "display_data",
          "data": {
            "image/png": "[encoded data removed]",
            "text/plain": [
              "<Figure size 432x288 with 1 Axes>"
            ]
          },
          "metadata": {
            "tags": [],
            "needs_background": "light"
          }
        }
      ]
    },
    {
      "cell_type": "markdown",
      "metadata": {
        "id": "f6PPa_Tr0RR7"
      },
      "source": [
        "Se observa que la alcaldía con más delitos denunciados es Iztapalapa."
      ]
    },
    {
      "cell_type": "markdown",
      "metadata": {
        "id": "dWf4uNApzFra"
      },
      "source": [
        "2. ¿Existe correlación entre el numero de delitos cometidos promedio por zona y la percepcion de seguridad de la gente?"
      ]
    },
    {
      "cell_type": "code",
      "metadata": {
        "colab": {
          "base_uri": "https://localhost:8080/",
          "height": 295
        },
        "id": "wwy3NRSPzJPv",
        "outputId": "3183b2ec-9ac4-44ef-b766-e571df37c1c1"
      },
      "source": [
        "resumen_alcaldia.plot.scatter(x ='Percepcion Inseguridad',y ='Numero de Delitos',s=resumen_alcaldia['Poblacion']/3000, alpha = 0.7, c='#00CED1')\n",
        "plt.title('Correlacion entre el numero de delitos cometidos por zona y la percepcion de seguridad de la gente')\n",
        "plt.show()"
      ],
      "execution_count": null,
      "outputs": [
        {
          "output_type": "display_data",
          "data": {
            "image/png": "[encoded data removed]",
            "text/plain": [
              "<Figure size 432x288 with 1 Axes>"
            ]
          },
          "metadata": {
            "tags": [],
            "needs_background": "light"
          }
        }
      ]
    },
    {
      "cell_type": "code",
      "metadata": {
        "colab": {
          "base_uri": "https://localhost:8080/",
          "height": 326
        },
        "id": "zECaulo5Yy8p",
        "outputId": "c94cfb7f-b1b0-498a-f6bf-60301e07eff9"
      },
      "source": [
        "resumen_alcaldia.corr()"
      ],
      "execution_count": null,
      "outputs": [
        {
          "output_type": "execute_result",
          "data": {
            "text/html": [
              "<div>\n",
              "<style scoped>\n",
              "    .dataframe tbody tr th:only-of-type {\n",
              "        vertical-align: middle;\n",
              "    }\n",
              "\n",
              "    .dataframe tbody tr th {\n",
              "        vertical-align: top;\n",
              "    }\n",
              "\n",
              "    .dataframe thead th {\n",
              "        text-align: right;\n",
              "    }\n",
              "</style>\n",
              "<table border=\"1\" class=\"dataframe\">\n",
              "  <thead>\n",
              "    <tr style=\"text-align: right;\">\n",
              "      <th></th>\n",
              "      <th>Poblacion</th>\n",
              "      <th>Poblacion economicamente inactiva</th>\n",
              "      <th>Grado promedio</th>\n",
              "      <th>Numero de Delitos</th>\n",
              "      <th>Percepcion Inseguridad</th>\n",
              "      <th>Mejorara</th>\n",
              "      <th>Seguira igual de bien</th>\n",
              "      <th>Seguira igual de mal</th>\n",
              "      <th>Empeorara</th>\n",
              "    </tr>\n",
              "  </thead>\n",
              "  <tbody>\n",
              "    <tr>\n",
              "      <th>Poblacion</th>\n",
              "      <td>1.000000</td>\n",
              "      <td>0.996226</td>\n",
              "      <td>-0.171350</td>\n",
              "      <td>0.863717</td>\n",
              "      <td>0.590521</td>\n",
              "      <td>-0.108432</td>\n",
              "      <td>-0.581700</td>\n",
              "      <td>0.374766</td>\n",
              "      <td>0.462877</td>\n",
              "    </tr>\n",
              "    <tr>\n",
              "      <th>Poblacion economicamente inactiva</th>\n",
              "      <td>0.996226</td>\n",
              "      <td>1.000000</td>\n",
              "      <td>-0.201913</td>\n",
              "      <td>0.835432</td>\n",
              "      <td>0.606051</td>\n",
              "      <td>-0.102348</td>\n",
              "      <td>-0.604551</td>\n",
              "      <td>0.379844</td>\n",
              "      <td>0.482747</td>\n",
              "    </tr>\n",
              "    <tr>\n",
              "      <th>Grado promedio</th>\n",
              "      <td>-0.171350</td>\n",
              "      <td>-0.201913</td>\n",
              "      <td>1.000000</td>\n",
              "      <td>0.194287</td>\n",
              "      <td>-0.400270</td>\n",
              "      <td>-0.051070</td>\n",
              "      <td>0.427104</td>\n",
              "      <td>-0.217219</td>\n",
              "      <td>-0.299755</td>\n",
              "    </tr>\n",
              "    <tr>\n",
              "      <th>Numero de Delitos</th>\n",
              "      <td>0.863717</td>\n",
              "      <td>0.835432</td>\n",
              "      <td>0.194287</td>\n",
              "      <td>1.000000</td>\n",
              "      <td>0.476656</td>\n",
              "      <td>-0.193966</td>\n",
              "      <td>-0.445117</td>\n",
              "      <td>0.410411</td>\n",
              "      <td>0.316720</td>\n",
              "    </tr>\n",
              "    <tr>\n",
              "      <th>Percepcion Inseguridad</th>\n",
              "      <td>0.590521</td>\n",
              "      <td>0.606051</td>\n",
              "      <td>-0.400270</td>\n",
              "      <td>0.476656</td>\n",
              "      <td>1.000000</td>\n",
              "      <td>-0.382522</td>\n",
              "      <td>-0.976581</td>\n",
              "      <td>0.846647</td>\n",
              "      <td>0.715034</td>\n",
              "    </tr>\n",
              "    <tr>\n",
              "      <th>Mejorara</th>\n",
              "      <td>-0.108432</td>\n",
              "      <td>-0.102348</td>\n",
              "      <td>-0.051070</td>\n",
              "      <td>-0.193966</td>\n",
              "      <td>-0.382522</td>\n",
              "      <td>1.000000</td>\n",
              "      <td>0.378378</td>\n",
              "      <td>-0.581091</td>\n",
              "      <td>-0.658242</td>\n",
              "    </tr>\n",
              "    <tr>\n",
              "      <th>Seguira igual de bien</th>\n",
              "      <td>-0.581700</td>\n",
              "      <td>-0.604551</td>\n",
              "      <td>0.427104</td>\n",
              "      <td>-0.445117</td>\n",
              "      <td>-0.976581</td>\n",
              "      <td>0.378378</td>\n",
              "      <td>1.000000</td>\n",
              "      <td>-0.808037</td>\n",
              "      <td>-0.779044</td>\n",
              "    </tr>\n",
              "    <tr>\n",
              "      <th>Seguira igual de mal</th>\n",
              "      <td>0.374766</td>\n",
              "      <td>0.379844</td>\n",
              "      <td>-0.217219</td>\n",
              "      <td>0.410411</td>\n",
              "      <td>0.846647</td>\n",
              "      <td>-0.581091</td>\n",
              "      <td>-0.808037</td>\n",
              "      <td>1.000000</td>\n",
              "      <td>0.497746</td>\n",
              "    </tr>\n",
              "    <tr>\n",
              "      <th>Empeorara</th>\n",
              "      <td>0.462877</td>\n",
              "      <td>0.482747</td>\n",
              "      <td>-0.299755</td>\n",
              "      <td>0.316720</td>\n",
              "      <td>0.715034</td>\n",
              "      <td>-0.658242</td>\n",
              "      <td>-0.779044</td>\n",
              "      <td>0.497746</td>\n",
              "      <td>1.000000</td>\n",
              "    </tr>\n",
              "  </tbody>\n",
              "</table>\n",
              "</div>"
            ],
            "text/plain": [
              "                                   Poblacion  ...  Empeorara\n",
              "Poblacion                           1.000000  ...   0.462877\n",
              "Poblacion economicamente inactiva   0.996226  ...   0.482747\n",
              "Grado promedio                     -0.171350  ...  -0.299755\n",
              "Numero de Delitos                   0.863717  ...   0.316720\n",
              "Percepcion Inseguridad              0.590521  ...   0.715034\n",
              "Mejorara                           -0.108432  ...  -0.658242\n",
              "Seguira igual de bien              -0.581700  ...  -0.779044\n",
              "Seguira igual de mal                0.374766  ...   0.497746\n",
              "Empeorara                           0.462877  ...   1.000000\n",
              "\n",
              "[9 rows x 9 columns]"
            ]
          },
          "metadata": {
            "tags": []
          },
          "execution_count": 704
        }
      ]
    },
    {
      "cell_type": "markdown",
      "metadata": {
        "id": "r-rtWIPS0XgS"
      },
      "source": [
        "Se observa que no existe una correlación demasiado grande (0.476656), sin embargo, sí existe cierta relación, lo cual era de esperarse."
      ]
    },
    {
      "cell_type": "markdown",
      "metadata": {
        "id": "WW1f2xkuEL-k"
      },
      "source": [
        "---"
      ]
    },
    {
      "cell_type": "markdown",
      "metadata": {
        "id": "PsgV4XBJEMuf"
      },
      "source": [
        "## **Planes a futuro**\n",
        "\n",
        "En un futuro esperamos resolver mas preguntas como las siguientes:\n",
        "1. ¿Cuáles son los 5 delitos con más recurrencia?\n",
        "1. ¿Cómo se distribuyen las edades de las víctimas?\n",
        "2. ¿Cómo se dristubuyen el sexo de las víctimas de delitos en la CDMX?\n",
        "3. ¿En qué mes/meses se cometen más delitos?\n",
        "4. ¿En qué horarios se cometen más delitos?\n",
        "5. ¿Hacía que género se concentran los 10 delitos con más ocurrencia (cada uno)?\n",
        "6. ¿Cómo ha evolucionado por meses la percepción de la seguridad de la gente?\n",
        "7. ¿Existe correlación entre el nivel de educación promedio por zona y el número de delitos realizados por zona?\n",
        "\n",
        "También esperamos entrenar un modelo que permita saber el número aproximado de delitos que se cometerán en una colonia y hora en específico, esto puede ser útil para aumentar la vigilancia en ciertas zonas y horas, además podría ser útil para crear una aplicación para que los usuarios sepan si corren peligro al estar en una zona a cierta hora."
      ]
    },
    {
      "cell_type": "markdown",
      "metadata": {
        "id": "eSwSpsrkEspy"
      },
      "source": [
        "---"
      ]
    }
  ]
}